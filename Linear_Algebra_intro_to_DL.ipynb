{
  "cells": [
    {
      "cell_type": "markdown",
      "metadata": {
        "id": "dTmzefTzzUgz"
      },
      "source": [
        "# Linear Algebra - Week 1"
      ]
    },
    {
      "cell_type": "markdown",
      "metadata": {
        "id": "4fZwMctBzUg1"
      },
      "source": [
        "This is a tutorial related to the course on Intro to Deep Learning, Spring 2023 at University of South Florida\n",
        "\n",
        "Author: Dr. Ankur Mali"
      ]
    },
    {
      "cell_type": "markdown",
      "metadata": {
        "id": "kxLgHVyLzUg1"
      },
      "source": [
        "The following material is based on *Linear Algebra Review and Reference* by Zico Kolter (updated by Chuong Do) from September 30, 2015, Materials from Damir Cavar from Indiana University. Several contents are rewritten from prior references. Consider this notebook a extended annotation of Kolter's (and Do's) notes and damir Cavar Tutorial for his ML class. See also James E. Gentle (2017) [Matrix Algebra: Theory, Computations and Applications in Statistics](http://www.springer.com/us/book/9780387708720). Second edition. Springer. Another good resource is Philip N. Klein (2013) [Coding the Matrix: Linear Algebra through Applications to Computer Science](http://codingthematrix.com/), Newtonian Press."
      ]
    },
    {
      "cell_type": "markdown",
      "metadata": {
        "id": "j4C2MYHgzUg1"
      },
      "source": [
        "# Basic Concepts and Notation"
      ]
    },
    {
      "cell_type": "markdown",
      "metadata": {
        "id": "hadi-_8JzUg1"
      },
      "source": [
        "The following system of equations:"
      ]
    },
    {
      "cell_type": "markdown",
      "metadata": {
        "id": "qzMs5aDDzUg1"
      },
      "source": [
        "$\\begin{equation}\n",
        "\\begin{split}\n",
        "4 x_1 - 5 x_2 & = -13 \\\\\n",
        " -2x_1 + 3 x_2 & = 9\n",
        "\\end{split}\n",
        "\\end{equation}$"
      ]
    },
    {
      "cell_type": "markdown",
      "metadata": {
        "id": "HDRsQhL6zUg2"
      },
      "source": [
        "We are looking for a unique solution for the two variables $x_1$ and $x_2$.  The system can be described as:"
      ]
    },
    {
      "cell_type": "markdown",
      "metadata": {
        "id": "1OHLYCyNzUg2"
      },
      "source": [
        "$Ax = b$"
      ]
    },
    {
      "cell_type": "markdown",
      "metadata": {
        "id": "q9XznkhtzUg2"
      },
      "source": [
        "as matrices:"
      ]
    },
    {
      "cell_type": "markdown",
      "metadata": {
        "id": "ezmyrq-CzUg2"
      },
      "source": [
        "$A = \\begin{bmatrix}\n",
        "       4  & -5 \\\\[0.3em]\n",
        "       -2 &  3 \n",
        "     \\end{bmatrix},\\ \n",
        " b = \\begin{bmatrix}\n",
        "       -13 \\\\[0.3em]\n",
        "       9 \n",
        "     \\end{bmatrix}$"
      ]
    },
    {
      "cell_type": "markdown",
      "metadata": {
        "id": "lzLXKTYSzUg2"
      },
      "source": [
        "A **scalar** is an element in a vector, containing a real number **value**. In a vector space model or a vector mapping of (symbolic, qualitative, or quantitative) properties the scalar holds the concrete value or property of a variable."
      ]
    },
    {
      "cell_type": "markdown",
      "metadata": {
        "id": "mwMH5BtKzUg2"
      },
      "source": [
        "A **vector** is an array, tuple, or ordered list of scalars (or elements) of size $n$, with $n$ a positive integer. The **length** of the vector, that is the number of scalars in the vector, is also called the **order** of the vector."
      ]
    },
    {
      "cell_type": "markdown",
      "metadata": {
        "id": "5zi3rlVfzUg3"
      },
      "source": [
        "**Vectorization** is the process of creating a vector from some data using some process."
      ]
    },
    {
      "cell_type": "markdown",
      "metadata": {
        "id": "f0I0Ksf2zUg3"
      },
      "source": [
        "Vectors of the length $n$ could be treated like points in $n$-dimensional space. One can calculate the distance between such points using measures like [Euclidean Distance](https://en.wikipedia.org/wiki/Euclidean_distance). The similarity of vectors could also be calculated using [Cosine Similarity](https://en.wikipedia.org/wiki/Cosine_similarity)."
      ]
    },
    {
      "cell_type": "markdown",
      "metadata": {
        "id": "IrukKpRxzUg3"
      },
      "source": [
        "## Notation"
      ]
    },
    {
      "cell_type": "markdown",
      "metadata": {
        "id": "UMqKrrZNzUg3"
      },
      "source": [
        "A **matrix** is a list of vectors that all are of the same length. $A$ is a matrix with $m$ rows and $n$ columns, entries of $A$ are real numbers:"
      ]
    },
    {
      "cell_type": "markdown",
      "metadata": {
        "id": "P0zrx9Y1zUg3"
      },
      "source": [
        "$A \\in \\mathbb{R}^{m \\times n}$"
      ]
    },
    {
      "cell_type": "markdown",
      "metadata": {
        "id": "d1JTpJ9XzUg3"
      },
      "source": [
        "A vector $x$ with $n$ entries of real numbers, could also be thought of as a matrix with $n$ rows and $1$ column, or as known as a **column vector**."
      ]
    },
    {
      "cell_type": "markdown",
      "metadata": {
        "id": "6etAXSEpzUg3"
      },
      "source": [
        "$x = \\begin{bmatrix}\n",
        "       x_1 \\\\[0.3em]\n",
        "       x_2 \\\\[0.3em]\n",
        "       \\vdots \\\\[0.3em]\n",
        "       x_n\n",
        "     \\end{bmatrix}$"
      ]
    },
    {
      "cell_type": "markdown",
      "metadata": {
        "id": "0NWV2POozUg3"
      },
      "source": [
        "Representing a **row vector**, that is a matrix with $1$ row and $n$ columns, we write $x^T$ (this denotes the transpose of $x$, see above)."
      ]
    },
    {
      "cell_type": "markdown",
      "metadata": {
        "id": "gU2ciigqzUg3"
      },
      "source": [
        "$x^T = \\begin{bmatrix}\n",
        "       x_1 & x_2 & \\cdots & x_n\n",
        "     \\end{bmatrix}$"
      ]
    },
    {
      "cell_type": "markdown",
      "metadata": {
        "id": "PyVg0x63zUg3"
      },
      "source": [
        "We use the notation $a_{ij}$ (or $A_{ij}$, $A_{i,j}$, etc.) to denote the entry of $A$ in the $i$th row and\n",
        "$j$th column:"
      ]
    },
    {
      "cell_type": "markdown",
      "metadata": {
        "id": "QIdvbfiPzUg4"
      },
      "source": [
        "$A = \\begin{bmatrix}\n",
        "       a_{11} & a_{12} & \\cdots & a_{1n} \\\\[0.3em]\n",
        "       a_{21} & a_{22} & \\cdots & a_{2n} \\\\[0.3em]\n",
        "       \\vdots & \\vdots & \\ddots & \\vdots \\\\[0.3em]\n",
        "       a_{m1} & a_{m2} & \\cdots & a_{mn} \n",
        "     \\end{bmatrix}$"
      ]
    },
    {
      "cell_type": "markdown",
      "metadata": {
        "id": "nmKumd-RzUg4"
      },
      "source": [
        "We denote the $j$th column of $A$ by $a_j$ or $A_{:,j}$:"
      ]
    },
    {
      "cell_type": "markdown",
      "metadata": {
        "id": "lmOa4ytgzUg4"
      },
      "source": [
        "$A = \\begin{bmatrix}\n",
        "       \\big| & \\big| &  & \\big| \\\\[0.3em]\n",
        "       a_{1} & a_{2} & \\cdots & a_{n} \\\\[0.3em]\n",
        "       \\big| & \\big| &  & \\big|  \n",
        "     \\end{bmatrix}$"
      ]
    },
    {
      "cell_type": "markdown",
      "metadata": {
        "id": "-bIVOzQNzUg4"
      },
      "source": [
        "We denote the $i$th row of $A$ by $a_i^T$ or $A_{i,:}$:"
      ]
    },
    {
      "cell_type": "markdown",
      "metadata": {
        "id": "lUzf4_nhzUg4"
      },
      "source": [
        "$A = \\begin{bmatrix}\n",
        "      -- & a_1^T  & -- \\\\[0.3em]\n",
        "       -- & a_2^T  & -- \\\\[0.3em]\n",
        "          & \\vdots &  \\\\[0.3em]\n",
        "       -- & a_m^T  & -- \n",
        "     \\end{bmatrix}$"
      ]
    },
    {
      "cell_type": "markdown",
      "metadata": {
        "id": "fBsrGTlbzUg4"
      },
      "source": []
    },
    {
      "cell_type": "markdown",
      "metadata": {
        "id": "hQBP8qawzUg4"
      },
      "source": [
        "A $n \\times m$ matrix is a two-dimensional array with $n$ rows and $m$ columns."
      ]
    },
    {
      "cell_type": "markdown",
      "metadata": {
        "id": "0vFvbBFmzUg4"
      },
      "source": [
        "## Matrix Multiplication"
      ]
    },
    {
      "cell_type": "markdown",
      "metadata": {
        "id": "vwjoaaSXzUg4"
      },
      "source": [
        "The result of the multiplication of two matrixes $A \\in \\mathbb{R}^{m \\times n}$ and $B \\in \\mathbb{R}^{n \\times p}$ is the matrix:"
      ]
    },
    {
      "cell_type": "markdown",
      "metadata": {
        "id": "9sBE91hyzUg4"
      },
      "source": [
        "$C = AB \\in \\mathbb{R}^{m \\times n}$"
      ]
    },
    {
      "cell_type": "markdown",
      "metadata": {
        "id": "j_R07Bm9zUg4"
      },
      "source": [
        "That is, we are multiplying the columns of $A$ with the rows of $B$:"
      ]
    },
    {
      "cell_type": "markdown",
      "metadata": {
        "id": "JaEPDNskzUg4"
      },
      "source": [
        "$C_{ij}=\\sum_{k=1}^n{A_{ij}B_{kj}}$"
      ]
    },
    {
      "cell_type": "markdown",
      "metadata": {
        "id": "J0pyVd9mzUg5"
      },
      "source": [
        "The number of columns in $A$ must be equal to the number of rows in $B$."
      ]
    },
    {
      "cell_type": "markdown",
      "metadata": {
        "id": "KX9l6KBIzUg5"
      },
      "source": [
        "### Vector-Vector Products"
      ]
    },
    {
      "cell_type": "markdown",
      "metadata": {
        "id": "hFCpL8DOzUg5"
      },
      "source": [
        "#### Inner or Dot Product of Two Vectors"
      ]
    },
    {
      "cell_type": "markdown",
      "metadata": {
        "id": "M_2n1mtHzUg5"
      },
      "source": [
        "For two vectors $x, y \\in \\mathbb{R}^n$, the **inner product** or **dot product** $x^T y$ is a real number:"
      ]
    },
    {
      "cell_type": "markdown",
      "metadata": {
        "id": "d489oVRYzUg5"
      },
      "source": [
        "$x^T y \\in \\mathbb{R} = \\begin{bmatrix}\n",
        "       x_1 & x_2 & \\cdots & x_n\n",
        "     \\end{bmatrix} \\begin{bmatrix}\n",
        "       y_1 \\\\[0.3em]\n",
        "       y_2 \\\\[0.3em]\n",
        "       \\vdots \\\\[0.3em]\n",
        "       y_n\n",
        "     \\end{bmatrix} = \\sum_{i=1}^{n}{x_i y_i}$"
      ]
    },
    {
      "cell_type": "markdown",
      "metadata": {
        "id": "gwkYeszNzUg5"
      },
      "source": [
        "The **inner products** are a special case of matrix multiplication."
      ]
    },
    {
      "cell_type": "markdown",
      "metadata": {
        "id": "XKQwabp2zUg5"
      },
      "source": [
        "It is always the case that $x^T y = y^T x$."
      ]
    },
    {
      "cell_type": "markdown",
      "metadata": {
        "id": "we6x_KOAzUg5"
      },
      "source": [
        "##### Example"
      ]
    },
    {
      "cell_type": "markdown",
      "metadata": {
        "id": "k4Coha_EzUg5"
      },
      "source": [
        "To calculate the inner product of two vectors $x = [1 2 3 4]$ and $y = [5 6 7 8]$, we can loop through the vector and multiply and sum the scalars (this is simplified code):"
      ]
    },
    {
      "cell_type": "code",
      "execution_count": null,
      "metadata": {
        "colab": {
          "base_uri": "https://localhost:8080/"
        },
        "id": "RZEMkdd1zUg5",
        "outputId": "043c9216-75a3-4aa2-d1ca-a5363416d114"
      },
      "outputs": [
        {
          "output_type": "stream",
          "name": "stdout",
          "text": [
            "70\n"
          ]
        }
      ],
      "source": [
        "x = (1, 2, 3, 4)\n",
        "y = (5, 6, 7, 8)\n",
        "n = len(x)\n",
        "if n == len(y):\n",
        "    result = 0\n",
        "    for i in range(n):\n",
        "        result += x[i] * y[i]\n",
        "    print(result)"
      ]
    },
    {
      "cell_type": "markdown",
      "metadata": {
        "id": "SntRO6SpzUg6"
      },
      "source": [
        "It is clear that in the code above we could change line 7 to `result += y[i] * x[i]` without affecting the result."
      ]
    },
    {
      "cell_type": "markdown",
      "metadata": {
        "id": "n7eOFshJzUg6"
      },
      "source": [
        "We can use the *numpy* module to apply the same operation, to calculate the **inner product**. We import the *numpy* module and assign it a name *np* for the following code:"
      ]
    },
    {
      "cell_type": "code",
      "execution_count": null,
      "metadata": {
        "id": "z7T9HwmbzUg6"
      },
      "outputs": [],
      "source": [
        "import numpy as np"
      ]
    },
    {
      "cell_type": "markdown",
      "metadata": {
        "id": "nzyXJPCxzUg6"
      },
      "source": [
        "We define the vectors $x$ and $y$ using *numpy*:"
      ]
    },
    {
      "cell_type": "code",
      "execution_count": null,
      "metadata": {
        "colab": {
          "base_uri": "https://localhost:8080/"
        },
        "id": "Fbjpt48ZzUg6",
        "outputId": "4e98faca-a07f-422c-aeef-e8a90d0b1670"
      },
      "outputs": [
        {
          "output_type": "stream",
          "name": "stdout",
          "text": [
            "x: [1 2 3 4]\n",
            "y: [5 6 7 8]\n"
          ]
        }
      ],
      "source": [
        "x = np.array([1, 2, 3, 4])\n",
        "y = np.array([5, 6, 7, 8])\n",
        "print(\"x:\", x)\n",
        "print(\"y:\", y)"
      ]
    },
    {
      "cell_type": "markdown",
      "metadata": {
        "id": "OlSsfXZ5zUg6"
      },
      "source": [
        "We can now calculate the $dot$ or $inner product$ using the *dot* function of *numpy*:"
      ]
    },
    {
      "cell_type": "code",
      "execution_count": null,
      "metadata": {
        "colab": {
          "base_uri": "https://localhost:8080/"
        },
        "id": "9FLrG-GBzUg6",
        "outputId": "51acd844-6935-4f04-b936-c2212c6bf7bb"
      },
      "outputs": [
        {
          "output_type": "execute_result",
          "data": {
            "text/plain": [
              "70"
            ]
          },
          "metadata": {},
          "execution_count": 4
        }
      ],
      "source": [
        "np.dot(x, y)"
      ]
    },
    {
      "cell_type": "markdown",
      "metadata": {
        "id": "9wPKs6UVzUg6"
      },
      "source": [
        "The order of the arguments is irrelevant:"
      ]
    },
    {
      "cell_type": "code",
      "execution_count": null,
      "metadata": {
        "colab": {
          "base_uri": "https://localhost:8080/"
        },
        "id": "tl4BFgBCzUg7",
        "outputId": "416ce23c-90bd-4c12-eacb-e6ee02f3b8df"
      },
      "outputs": [
        {
          "output_type": "execute_result",
          "data": {
            "text/plain": [
              "70"
            ]
          },
          "metadata": {},
          "execution_count": 5
        }
      ],
      "source": [
        "np.dot(y, x)"
      ]
    },
    {
      "cell_type": "markdown",
      "metadata": {
        "id": "QJCHwJe-zUg7"
      },
      "source": [
        "Note that both vectors are actually **row vectors** in the above code. We can transpose them to column vectors by using the *shape* property:"
      ]
    },
    {
      "cell_type": "code",
      "execution_count": null,
      "metadata": {
        "colab": {
          "base_uri": "https://localhost:8080/"
        },
        "id": "UKNnUq21zUg7",
        "outputId": "9a7e7dd2-75c6-4b87-e37b-1af3e340ea4a"
      },
      "outputs": [
        {
          "output_type": "stream",
          "name": "stdout",
          "text": [
            "x: [1 2 3 4]\n",
            "xT: [[1]\n",
            " [2]\n",
            " [3]\n",
            " [4]]\n",
            "y: [5 6 7 8]\n",
            "yT: [[5]\n",
            " [6]\n",
            " [7]\n",
            " [8]]\n"
          ]
        }
      ],
      "source": [
        "print(\"x:\", x)\n",
        "x.shape = (4, 1)\n",
        "print(\"xT:\", x)\n",
        "print(\"y:\", y)\n",
        "y.shape = (4, 1)\n",
        "print(\"yT:\", y)"
      ]
    },
    {
      "cell_type": "markdown",
      "metadata": {
        "id": "3pDT5bbezUg7"
      },
      "source": [
        "In fact, in our understanding of Linear Algebra, we take the arrays above to represent **row vectors**. *Numpy* treates them differently."
      ]
    },
    {
      "cell_type": "markdown",
      "metadata": {
        "id": "ay-Kn7fOzUg7"
      },
      "source": [
        "We see the issues when we try to transform the array objects. Usually, we can transform a row vector into a column vector in *numpy* by using the *T* method on vector or matrix objects:"
      ]
    },
    {
      "cell_type": "code",
      "execution_count": null,
      "metadata": {
        "colab": {
          "base_uri": "https://localhost:8080/"
        },
        "id": "RfG5nizczUg7",
        "outputId": "e1bd1c19-7df0-4a57-9c1b-2a27d5f03c15"
      },
      "outputs": [
        {
          "output_type": "stream",
          "name": "stdout",
          "text": [
            "x: [1 2 3 4]\n",
            "y: [5 6 7 8]\n",
            "xT: [1 2 3 4]\n",
            "yT: [5 6 7 8]\n"
          ]
        }
      ],
      "source": [
        "x = np.array([1, 2, 3, 4])\n",
        "y = np.array([5, 6, 7, 8])\n",
        "print(\"x:\", x)\n",
        "print(\"y:\", y)\n",
        "print(\"xT:\", x.T)\n",
        "print(\"yT:\", y.T)"
      ]
    },
    {
      "cell_type": "markdown",
      "metadata": {
        "id": "GILN-0zFzUg7"
      },
      "source": [
        "The problem here is that this does not do, what we expect it to do. It only works, if we declare the variables not to be arrays of numbers, but in fact a matrix:"
      ]
    },
    {
      "cell_type": "code",
      "execution_count": null,
      "metadata": {
        "colab": {
          "base_uri": "https://localhost:8080/"
        },
        "id": "inxIj2YRzUg7",
        "outputId": "a887fdd7-82cf-4ec5-b1cf-372eafc3832c"
      },
      "outputs": [
        {
          "output_type": "stream",
          "name": "stdout",
          "text": [
            "x: [[1 2 3 4]]\n",
            "y: [[5 6 7 8]]\n",
            "xT: [[1]\n",
            " [2]\n",
            " [3]\n",
            " [4]]\n",
            "yT: [[5]\n",
            " [6]\n",
            " [7]\n",
            " [8]]\n"
          ]
        }
      ],
      "source": [
        "x = np.array([[1, 2, 3, 4]])\n",
        "y = np.array([[5, 6, 7, 8]])\n",
        "print(\"x:\", x)\n",
        "print(\"y:\", y)\n",
        "print(\"xT:\", x.T)\n",
        "print(\"yT:\", y.T)\n"
      ]
    },
    {
      "cell_type": "markdown",
      "metadata": {
        "id": "3YZp15PgzUg7"
      },
      "source": [
        "Note that the *numpy* functions *dot* and *outer* are not affected by this distinction. We can compute the dot product using the mathematical equation above in *numpy* using the new $x$ and $y$ row vectors:"
      ]
    },
    {
      "cell_type": "code",
      "execution_count": null,
      "metadata": {
        "colab": {
          "base_uri": "https://localhost:8080/"
        },
        "id": "ERj48EXvzUg7",
        "outputId": "0f1d99eb-dac1-486a-9f82-be1027628270"
      },
      "outputs": [
        {
          "output_type": "stream",
          "name": "stdout",
          "text": [
            "x: [[1 2 3 4]]\n",
            "y: [[5]\n",
            " [6]\n",
            " [7]\n",
            " [8]]\n"
          ]
        },
        {
          "output_type": "execute_result",
          "data": {
            "text/plain": [
              "array([[70]])"
            ]
          },
          "metadata": {},
          "execution_count": 9
        }
      ],
      "source": [
        "print(\"x:\", x)\n",
        "print(\"y:\", y.T)\n",
        "np.dot(x, y.T)"
      ]
    },
    {
      "cell_type": "markdown",
      "metadata": {
        "id": "YvDK1UYgzUg7"
      },
      "source": [
        "Or by reverting to:"
      ]
    },
    {
      "cell_type": "code",
      "execution_count": null,
      "metadata": {
        "colab": {
          "base_uri": "https://localhost:8080/"
        },
        "id": "g69fgyyGzUg7",
        "outputId": "f25a86b3-c76a-41b0-afa2-429ba6119b07"
      },
      "outputs": [
        {
          "output_type": "stream",
          "name": "stdout",
          "text": [
            "x: [[1]\n",
            " [2]\n",
            " [3]\n",
            " [4]]\n",
            "y: [[5 6 7 8]]\n"
          ]
        },
        {
          "output_type": "execute_result",
          "data": {
            "text/plain": [
              "array([[70]])"
            ]
          },
          "metadata": {},
          "execution_count": 10
        }
      ],
      "source": [
        "print(\"x:\", x.T)\n",
        "print(\"y:\", y)\n",
        "np.dot(y, x.T)"
      ]
    },
    {
      "cell_type": "markdown",
      "metadata": {
        "id": "mZShXwDkzUg7"
      },
      "source": [
        "To read the result from this array of arrays, we would need to access the value this way:"
      ]
    },
    {
      "cell_type": "code",
      "execution_count": null,
      "metadata": {
        "colab": {
          "base_uri": "https://localhost:8080/"
        },
        "id": "v8V9lVBdzUg7",
        "outputId": "e4adfd02-883e-4693-9146-939e4b70c00a"
      },
      "outputs": [
        {
          "output_type": "execute_result",
          "data": {
            "text/plain": [
              "70"
            ]
          },
          "metadata": {},
          "execution_count": 11
        }
      ],
      "source": [
        "np.dot(y, x.T)[0][0]"
      ]
    },
    {
      "cell_type": "markdown",
      "source": [
        "Now let's look into tensorflow"
      ],
      "metadata": {
        "id": "-qpFgDc63tcR"
      }
    },
    {
      "cell_type": "code",
      "source": [
        "import tensorflow as tf"
      ],
      "metadata": {
        "id": "C34iSkdd3tBo"
      },
      "execution_count": null,
      "outputs": []
    },
    {
      "cell_type": "code",
      "source": [
        "tf.reduce_sum( tf.multiply( x, y ), 1)"
      ],
      "metadata": {
        "colab": {
          "base_uri": "https://localhost:8080/"
        },
        "id": "NZdjnkqk377Y",
        "outputId": "25f913cb-6dbb-423a-ea9c-10195c268072"
      },
      "execution_count": null,
      "outputs": [
        {
          "output_type": "execute_result",
          "data": {
            "text/plain": [
              "<tf.Tensor: shape=(1,), dtype=int64, numpy=array([70])>"
            ]
          },
          "metadata": {},
          "execution_count": 21
        }
      ]
    },
    {
      "cell_type": "code",
      "source": [
        "tf.reduce_sum( tf.multiply( y, x ), 1)"
      ],
      "metadata": {
        "colab": {
          "base_uri": "https://localhost:8080/"
        },
        "id": "0TAq-9rF8vQ9",
        "outputId": "99a5d002-6a35-4053-aca8-d69b7bb67630"
      },
      "execution_count": null,
      "outputs": [
        {
          "output_type": "execute_result",
          "data": {
            "text/plain": [
              "<tf.Tensor: shape=(1,), dtype=int64, numpy=array([70])>"
            ]
          },
          "metadata": {},
          "execution_count": 22
        }
      ]
    },
    {
      "cell_type": "code",
      "source": [
        "tf.shape(x)"
      ],
      "metadata": {
        "colab": {
          "base_uri": "https://localhost:8080/"
        },
        "id": "FHxxq-gh9HRU",
        "outputId": "1c00f550-b75b-4b28-bbe8-ff5b7b96fd94"
      },
      "execution_count": null,
      "outputs": [
        {
          "output_type": "execute_result",
          "data": {
            "text/plain": [
              "<tf.Tensor: shape=(2,), dtype=int32, numpy=array([1, 4], dtype=int32)>"
            ]
          },
          "metadata": {},
          "execution_count": 23
        }
      ]
    },
    {
      "cell_type": "code",
      "source": [
        "tf.shape(y)"
      ],
      "metadata": {
        "colab": {
          "base_uri": "https://localhost:8080/"
        },
        "id": "wJH_Yuk09KzD",
        "outputId": "75d8c57f-9994-4d84-de55-4787d056af2f"
      },
      "execution_count": null,
      "outputs": [
        {
          "output_type": "execute_result",
          "data": {
            "text/plain": [
              "<tf.Tensor: shape=(2,), dtype=int32, numpy=array([1, 4], dtype=int32)>"
            ]
          },
          "metadata": {},
          "execution_count": 24
        }
      ]
    },
    {
      "cell_type": "code",
      "source": [
        "print(y.T)"
      ],
      "metadata": {
        "colab": {
          "base_uri": "https://localhost:8080/"
        },
        "id": "ZonNTD2g9y_t",
        "outputId": "973be9b0-497b-4d23-e98f-df4e8cf54e62"
      },
      "execution_count": null,
      "outputs": [
        {
          "output_type": "stream",
          "name": "stdout",
          "text": [
            "[[5]\n",
            " [6]\n",
            " [7]\n",
            " [8]]\n"
          ]
        }
      ]
    },
    {
      "cell_type": "code",
      "source": [
        "print(tf.transpose(y))"
      ],
      "metadata": {
        "colab": {
          "base_uri": "https://localhost:8080/"
        },
        "id": "96kKDRu691RU",
        "outputId": "e73648e8-6f6e-4b0f-9aba-abd1330d2f95"
      },
      "execution_count": null,
      "outputs": [
        {
          "output_type": "stream",
          "name": "stdout",
          "text": [
            "tf.Tensor(\n",
            "[[5]\n",
            " [6]\n",
            " [7]\n",
            " [8]], shape=(4, 1), dtype=int64)\n"
          ]
        }
      ]
    },
    {
      "cell_type": "markdown",
      "source": [
        "Let's look how you can get incorrect results, if you blindly trust any functions even in deep learning framework"
      ],
      "metadata": {
        "id": "7d7tFVCV-lOc"
      }
    },
    {
      "cell_type": "code",
      "source": [
        "ty = tf.transpose(y)\n",
        "tf.reduce_sum( tf.multiply( x, ty), 1)\n",
        "\n",
        "# This is incorrect and does not come close to results displayed by numpy"
      ],
      "metadata": {
        "colab": {
          "base_uri": "https://localhost:8080/"
        },
        "id": "-Kot_fDI9Xg8",
        "outputId": "5b6898ff-aa98-4335-b3de-f7c29d9d270a"
      },
      "execution_count": null,
      "outputs": [
        {
          "output_type": "execute_result",
          "data": {
            "text/plain": [
              "<tf.Tensor: shape=(4,), dtype=int64, numpy=array([50, 60, 70, 80])>"
            ]
          },
          "metadata": {},
          "execution_count": 35
        }
      ]
    },
    {
      "cell_type": "markdown",
      "source": [
        "This is incorrect and does not come close to results displayed by numpy, Let's look at the solution"
      ],
      "metadata": {
        "id": "7N_3ii68_crl"
      }
    },
    {
      "cell_type": "code",
      "source": [
        "tf.tensordot(x,ty, axes=1)"
      ],
      "metadata": {
        "colab": {
          "base_uri": "https://localhost:8080/"
        },
        "id": "k9xa6HAM-TMN",
        "outputId": "2643672e-2623-4343-e2bc-34c8a3d4f38a"
      },
      "execution_count": null,
      "outputs": [
        {
          "output_type": "execute_result",
          "data": {
            "text/plain": [
              "<tf.Tensor: shape=(1, 1), dtype=int64, numpy=array([[70]])>"
            ]
          },
          "metadata": {},
          "execution_count": 34
        }
      ]
    },
    {
      "cell_type": "code",
      "source": [
        "tf.tensordot(y,tf.transpose(x), axes=1)"
      ],
      "metadata": {
        "colab": {
          "base_uri": "https://localhost:8080/"
        },
        "id": "W0M1KMlp_l6_",
        "outputId": "ef42bff1-9609-4a56-ea0e-057bfa6bfa9e"
      },
      "execution_count": null,
      "outputs": [
        {
          "output_type": "execute_result",
          "data": {
            "text/plain": [
              "<tf.Tensor: shape=(1, 1), dtype=int64, numpy=array([[70]])>"
            ]
          },
          "metadata": {},
          "execution_count": 36
        }
      ]
    },
    {
      "cell_type": "markdown",
      "metadata": {
        "id": "v2MzzCoyzUg7"
      },
      "source": [
        "#### Outer Product of Two Vectors"
      ]
    },
    {
      "cell_type": "markdown",
      "metadata": {
        "id": "mb8pFUegzUg8"
      },
      "source": [
        "For two vectors $x \\in \\mathbb{R}^m$ and $y \\in \\mathbb{R}^n$, where $n$ and $m$ do not have to be equal, the **outer product** of $x$ and $y$ is:"
      ]
    },
    {
      "cell_type": "markdown",
      "metadata": {
        "id": "XLQ8RrNXzUg8"
      },
      "source": [
        "$xy^T \\in \\mathbb{R}^{m\\times n}$"
      ]
    },
    {
      "cell_type": "markdown",
      "metadata": {
        "id": "B9yRhj4uzUg8"
      },
      "source": [
        "The **outer product** results in a matrix with $m$ rows and $n$ columns by $(xy^T)_{ij} = x_i y_j$:"
      ]
    },
    {
      "cell_type": "markdown",
      "metadata": {
        "id": "sx2SvYE8zUg8"
      },
      "source": [
        "$xy^T \\in \\mathbb{R}^{m\\times n} = \\begin{bmatrix}\n",
        "       x_1 \\\\[0.3em]\n",
        "       x_2 \\\\[0.3em]\n",
        "       \\vdots \\\\[0.3em]\n",
        "       x_n\n",
        "     \\end{bmatrix} \\begin{bmatrix}\n",
        "       y_1 & y_2 & \\cdots & y_n\n",
        "     \\end{bmatrix} = \\begin{bmatrix}\n",
        "       x_1 y_1 & x_1 y_2 & \\cdots & x_1 y_n \\\\[0.3em]\n",
        "       x_2 y_1 & x_2 y_2 & \\cdots & x_2 y_n \\\\[0.3em]\n",
        "       \\vdots  & \\vdots  & \\ddots & \\vdots \\\\[0.3em]\n",
        "       x_m y_1 & x_m y_2 & \\cdots & x_m y_n \\\\[0.3em]\n",
        "     \\end{bmatrix}$"
      ]
    },
    {
      "cell_type": "markdown",
      "metadata": {
        "id": "VGEiDF43zUg8"
      },
      "source": [
        "Some useful property of the outer product: assume $\\mathbf{1} \\in \\mathbb{R}^n$ is an $n$-dimensional vector of scalars with the value $1$. Given a matrix $A \\in \\mathbb{R}^{m\\times n}$ with all columns equal to some vector $x \\in \\mathbb{R}^m$, using the outer product $A$ can be represented as:"
      ]
    },
    {
      "cell_type": "markdown",
      "metadata": {
        "id": "sM_q_k9gzUg8"
      },
      "source": [
        "$A = \\begin{bmatrix}\n",
        "       \\big| & \\big| &  & \\big| \\\\[0.3em]\n",
        "       x & x & \\cdots & x \\\\[0.3em]\n",
        "       \\big| & \\big| &  & \\big|  \n",
        "     \\end{bmatrix} = \\begin{bmatrix}\n",
        "       x_1    & x_1    & \\cdots & x_1    \\\\[0.3em]\n",
        "       x_2    & x_2    & \\cdots & x_2    \\\\[0.3em]\n",
        "       \\vdots & \\vdots & \\ddots & \\vdots \\\\[0.3em]\n",
        "       x_m    &x_m     & \\cdots & x_m\n",
        "     \\end{bmatrix} = \\begin{bmatrix}\n",
        "       x_1 \\\\[0.3em]\n",
        "       x_2 \\\\[0.3em]\n",
        "       \\vdots \\\\[0.3em]\n",
        "       x_m\n",
        "     \\end{bmatrix} \\begin{bmatrix}\n",
        "       1 & 1 & \\cdots & 1\n",
        "     \\end{bmatrix} = x \\mathbf{1}^T$"
      ]
    },
    {
      "cell_type": "markdown",
      "metadata": {
        "id": "zRW3KWXozUg8"
      },
      "source": [
        "##### Example"
      ]
    },
    {
      "cell_type": "markdown",
      "metadata": {
        "id": "106nDDGgzUg8"
      },
      "source": [
        "If we want to compute the outer product of two vectors $x$ and $y$, we need to transpose the row vector $x$ to a column vector $x^T$. This can be achieved by the *reshape* function in *numpy*, the *T* method, or the *transpose()* function. The *reshape* function takes a parameter that describes the number of colums and rows for the resulting transposing:"
      ]
    },
    {
      "cell_type": "code",
      "execution_count": null,
      "metadata": {
        "colab": {
          "base_uri": "https://localhost:8080/"
        },
        "id": "3eafd8IxzUg8",
        "outputId": "d8a0fc4e-b845-44f8-bf7d-f6a49639e466"
      },
      "outputs": [
        {
          "output_type": "stream",
          "name": "stdout",
          "text": [
            "x: [[1 2 3 4]]\n",
            "xT: [[1]\n",
            " [2]\n",
            " [3]\n",
            " [4]]\n",
            "xT: [[1]\n",
            " [2]\n",
            " [3]\n",
            " [4]]\n",
            "xT: [[1]\n",
            " [2]\n",
            " [3]\n",
            " [4]]\n"
          ]
        }
      ],
      "source": [
        "x = np.array([[1, 2, 3, 4]])\n",
        "print(\"x:\", x)\n",
        "print(\"xT:\", np.reshape(x, (4, 1)))\n",
        "print(\"xT:\", x.T)\n",
        "print(\"xT:\", x.transpose())"
      ]
    },
    {
      "cell_type": "markdown",
      "metadata": {
        "id": "3BrFR87xzUg8"
      },
      "source": [
        "We can now compute the **outer product** by multiplying the column vector $x$ with the row vector $y$:"
      ]
    },
    {
      "cell_type": "code",
      "execution_count": null,
      "metadata": {
        "colab": {
          "base_uri": "https://localhost:8080/"
        },
        "id": "D5ZgJA7bzUg8",
        "outputId": "6dd48a27-e10c-4183-993c-8020736e5696"
      },
      "outputs": [
        {
          "output_type": "execute_result",
          "data": {
            "text/plain": [
              "array([[ 5,  6,  7,  8],\n",
              "       [10, 12, 14, 16],\n",
              "       [15, 18, 21, 24],\n",
              "       [20, 24, 28, 32]])"
            ]
          },
          "metadata": {},
          "execution_count": 38
        }
      ],
      "source": [
        "x = np.array([[1, 2, 3, 4]])\n",
        "y = np.array([[5, 6, 7, 8]])\n",
        "x.T * y"
      ]
    },
    {
      "cell_type": "markdown",
      "metadata": {
        "id": "RTaQw45azUg8"
      },
      "source": [
        "*Numpy* provides an *outer* function that does all that:"
      ]
    },
    {
      "cell_type": "code",
      "execution_count": null,
      "metadata": {
        "colab": {
          "base_uri": "https://localhost:8080/"
        },
        "id": "18i7oEPuzUg8",
        "outputId": "e017e519-e9e0-4e4c-f8da-e9343da7b095"
      },
      "outputs": [
        {
          "output_type": "execute_result",
          "data": {
            "text/plain": [
              "array([[ 5,  6,  7,  8],\n",
              "       [10, 12, 14, 16],\n",
              "       [15, 18, 21, 24],\n",
              "       [20, 24, 28, 32]])"
            ]
          },
          "metadata": {},
          "execution_count": 39
        }
      ],
      "source": [
        "np.outer(x, y)"
      ]
    },
    {
      "cell_type": "markdown",
      "metadata": {
        "id": "FxB4SoLmzUg9"
      },
      "source": [
        "Note, in this simple case using the simple arrays for the data structures of the vectors does not affect the result of the *outer* function:"
      ]
    },
    {
      "cell_type": "code",
      "execution_count": null,
      "metadata": {
        "colab": {
          "base_uri": "https://localhost:8080/"
        },
        "id": "o00ZMojmzUg9",
        "outputId": "36bb52b8-6aef-4e0c-ed1f-834eefb71d16"
      },
      "outputs": [
        {
          "output_type": "execute_result",
          "data": {
            "text/plain": [
              "array([[ 5,  6,  7,  8],\n",
              "       [10, 12, 14, 16],\n",
              "       [15, 18, 21, 24],\n",
              "       [20, 24, 28, 32]])"
            ]
          },
          "metadata": {},
          "execution_count": 40
        }
      ],
      "source": [
        "x = np.array([1, 2, 3, 4])\n",
        "y = np.array([5, 6, 7, 8])\n",
        "np.outer(x, y)"
      ]
    },
    {
      "cell_type": "markdown",
      "source": [
        "Now let's see how we can achieve this using tensorflow, axes=0 gives you outer product"
      ],
      "metadata": {
        "id": "TGg_4oKyALf7"
      }
    },
    {
      "cell_type": "code",
      "source": [
        "tf.tensordot(x,y,axes=0)"
      ],
      "metadata": {
        "colab": {
          "base_uri": "https://localhost:8080/"
        },
        "id": "Z-8f1qEm__sv",
        "outputId": "5f8bae66-12a2-41c3-9c36-8b7ddc7e4f3e"
      },
      "execution_count": null,
      "outputs": [
        {
          "output_type": "execute_result",
          "data": {
            "text/plain": [
              "<tf.Tensor: shape=(4, 4), dtype=int64, numpy=\n",
              "array([[ 5,  6,  7,  8],\n",
              "       [10, 12, 14, 16],\n",
              "       [15, 18, 21, 24],\n",
              "       [20, 24, 28, 32]])>"
            ]
          },
          "metadata": {},
          "execution_count": 43
        }
      ]
    },
    {
      "cell_type": "markdown",
      "metadata": {
        "id": "pD95D_CQzUg9"
      },
      "source": [
        "### Matrix-Vector Products"
      ]
    },
    {
      "cell_type": "markdown",
      "metadata": {
        "id": "wUY3GNW-zUg9"
      },
      "source": [
        "Assume a matrix $A \\in \\mathbb{R}^{m\\times n}$ and a vector $x \\in \\mathbb{R}^n$ the product results in a vector $y = Ax \\in \\mathbb{R}^m$."
      ]
    },
    {
      "cell_type": "markdown",
      "metadata": {
        "id": "BXP3WhAjzUg9"
      },
      "source": [
        "$Ax$ could be expressed as the dot product of row $i$ of matrix $A$ with the column value $j$ of vector $x$. Let us first consider matrix multiplication with a scalar:"
      ]
    },
    {
      "cell_type": "markdown",
      "metadata": {
        "id": "EQfTYeofzUg9"
      },
      "source": [
        "$A = \\begin{bmatrix}\n",
        "       1 & 2 \\\\[0.3em]\n",
        "       3 & 4\n",
        "     \\end{bmatrix}$"
      ]
    },
    {
      "cell_type": "markdown",
      "metadata": {
        "id": "1MXYqRaAzUg9"
      },
      "source": [
        "We can compute the product of $A$ with a scalar $n = 2$ as:"
      ]
    },
    {
      "cell_type": "markdown",
      "metadata": {
        "id": "NasrIaSvzUg9"
      },
      "source": [
        "$A = \\begin{bmatrix}\n",
        "       1 * n & 2 * n \\\\[0.3em]\n",
        "       3 * n & 4 * n\n",
        "     \\end{bmatrix} = \\begin{bmatrix}\n",
        "       1 * 2 & 2 * 2 \\\\[0.3em]\n",
        "       3 * 2 & 4 * 2\n",
        "     \\end{bmatrix} = \\begin{bmatrix}\n",
        "       2 & 4 \\\\[0.3em]\n",
        "       6 & 8\n",
        "     \\end{bmatrix} $"
      ]
    },
    {
      "cell_type": "markdown",
      "metadata": {
        "id": "gFLaUT_izUg9"
      },
      "source": [
        "Using *numpy* this can be achieved by:"
      ]
    },
    {
      "cell_type": "code",
      "execution_count": null,
      "metadata": {
        "colab": {
          "base_uri": "https://localhost:8080/"
        },
        "id": "wfBaRuKpzUg9",
        "outputId": "9a443208-7158-4adc-da6b-b38cb630f3a2"
      },
      "outputs": [
        {
          "output_type": "execute_result",
          "data": {
            "text/plain": [
              "array([[ 8, 10, 12],\n",
              "       [14, 16, 18]])"
            ]
          },
          "metadata": {},
          "execution_count": 44
        }
      ],
      "source": [
        "import numpy as np\n",
        "A = np.array([[4, 5, 6],\n",
        "             [7, 8, 9]])\n",
        "A * 2"
      ]
    },
    {
      "cell_type": "code",
      "source": [
        "A_t = tf.Variable([[4, 5, 6],\n",
        "             [7, 8, 9]])\n",
        "tf.multiply(A_t,2)"
      ],
      "metadata": {
        "colab": {
          "base_uri": "https://localhost:8080/"
        },
        "id": "RMSzuXBFBBQR",
        "outputId": "d758d21d-570c-4e9a-a2c2-00bd1422a247"
      },
      "execution_count": null,
      "outputs": [
        {
          "output_type": "execute_result",
          "data": {
            "text/plain": [
              "<tf.Tensor: shape=(2, 3), dtype=int32, numpy=\n",
              "array([[ 8, 10, 12],\n",
              "       [14, 16, 18]], dtype=int32)>"
            ]
          },
          "metadata": {},
          "execution_count": 50
        }
      ]
    },
    {
      "cell_type": "markdown",
      "metadata": {
        "id": "YRmEbrYmzUg9"
      },
      "source": [
        "Assume that we have a column vector $x$:"
      ]
    },
    {
      "cell_type": "markdown",
      "metadata": {
        "id": "RgnAHv3hzUg9"
      },
      "source": [
        "$x = \\begin{bmatrix}\n",
        "       1 \\\\[0.3em]\n",
        "       2 \\\\[0.3em]\n",
        "       3 \n",
        "     \\end{bmatrix}$"
      ]
    },
    {
      "cell_type": "markdown",
      "metadata": {
        "id": "a4f3mH_EzUg9"
      },
      "source": [
        "To be able to multiply this vector with a matrix, the number of columns in the matrix must correspond to the number of rows in the column vector. The matrix $A$ must have $3$ columns, as for example: "
      ]
    },
    {
      "cell_type": "markdown",
      "metadata": {
        "id": "2vJcSkPHzUg9"
      },
      "source": [
        "$A = \\begin{bmatrix}\n",
        "       4 & 5 & 6\\\\[0.3em]\n",
        "       7 & 8 & 9\n",
        "     \\end{bmatrix}$"
      ]
    },
    {
      "cell_type": "markdown",
      "metadata": {
        "id": "di1LF0gpzUg9"
      },
      "source": [
        "To compute $Ax$, we multiply row $1$ of the matrix with column $1$ of $x$:"
      ]
    },
    {
      "cell_type": "markdown",
      "metadata": {
        "id": "O7IvWkZHzUg9"
      },
      "source": [
        "$\\begin{bmatrix}\n",
        "  4 & 5 & 6\n",
        " \\end{bmatrix}\n",
        " \\begin{bmatrix}\n",
        " 1 \\\\[0.3em]\n",
        " 2 \\\\[0.3em]\n",
        " 3 \n",
        "\\end{bmatrix} = 4 * 1 + 5 * 2 + 6 * 3 = 32 $"
      ]
    },
    {
      "cell_type": "markdown",
      "metadata": {
        "id": "gyCe2ZquzUg9"
      },
      "source": [
        "We do the compute the dot product of row $2$ of $A$ and column $1$ of $x$:"
      ]
    },
    {
      "cell_type": "markdown",
      "metadata": {
        "id": "mysNqrNZzUg-"
      },
      "source": [
        "$\\begin{bmatrix}\n",
        "  7 & 8 & 9\n",
        " \\end{bmatrix}\n",
        " \\begin{bmatrix}\n",
        " 1 \\\\[0.3em]\n",
        " 2 \\\\[0.3em]\n",
        " 3 \n",
        "\\end{bmatrix} = 7 * 1 + 8 * 2 + 9 * 3 = 50 $"
      ]
    },
    {
      "cell_type": "markdown",
      "metadata": {
        "id": "EoCqeJONzUg-"
      },
      "source": [
        "The resulting column vector $Ax$ is:"
      ]
    },
    {
      "cell_type": "markdown",
      "metadata": {
        "id": "ZaxaRrY9zUg-"
      },
      "source": [
        "$\n",
        "$Ax= \\begin{bmatrix}\n",
        "       32 \\\\[0.3em]\n",
        "       50 \n",
        "      \\end{bmatrix}$\n",
        "     "
      ]
    },
    {
      "cell_type": "markdown",
      "metadata": {
        "id": "dgJ4B-NfzUg-"
      },
      "source": [
        "Using *numpy* we can compute $Ax$:"
      ]
    },
    {
      "cell_type": "code",
      "execution_count": null,
      "metadata": {
        "colab": {
          "base_uri": "https://localhost:8080/"
        },
        "id": "-kuMRz6qzUg-",
        "outputId": "f5040cce-1ca8-409b-fb0b-80a5a68a5eec"
      },
      "outputs": [
        {
          "output_type": "execute_result",
          "data": {
            "text/plain": [
              "array([32, 50])"
            ]
          },
          "metadata": {},
          "execution_count": 51
        }
      ],
      "source": [
        "A = np.array([[4, 5, 6],\n",
        "             [7, 8, 9]])\n",
        "x = np.array([1, 2, 3])\n",
        "A.dot(x)"
      ]
    },
    {
      "cell_type": "code",
      "source": [
        "A = tf.Variable([[4, 5, 6],\n",
        "             [7, 8, 9]])\n",
        "x = tf.Variable([1, 2, 3])\n",
        "tf.reduce_sum(tf.multiply(A,x),1)"
      ],
      "metadata": {
        "colab": {
          "base_uri": "https://localhost:8080/"
        },
        "id": "l24XAHKZE8R-",
        "outputId": "4bb14e80-3380-47cb-e857-62c6da8d25a4"
      },
      "execution_count": null,
      "outputs": [
        {
          "output_type": "execute_result",
          "data": {
            "text/plain": [
              "<tf.Tensor: shape=(2,), dtype=int32, numpy=array([32, 50], dtype=int32)>"
            ]
          },
          "metadata": {},
          "execution_count": 55
        }
      ]
    },
    {
      "cell_type": "markdown",
      "metadata": {
        "id": "nGdW3q8izUg-"
      },
      "source": [
        "We can thus describe the product writing $A$ by rows as:"
      ]
    },
    {
      "cell_type": "markdown",
      "metadata": {
        "id": "pyFSz8REzUg-"
      },
      "source": [
        "$y = Ax = \\begin{bmatrix}\n",
        " -- & a_1^T  & -- \\\\[0.3em]\n",
        " -- & a_2^T  & -- \\\\[0.3em]\n",
        "    & \\vdots &  \\\\[0.3em]\n",
        " -- & a_m^T  & -- \n",
        "\\end{bmatrix} x = \\begin{bmatrix}\n",
        " a_1^T x \\\\[0.3em]\n",
        " a_2^T x \\\\[0.3em]\n",
        " \\vdots \\\\[0.3em]\n",
        " a_m^T x \n",
        "\\end{bmatrix}$"
      ]
    },
    {
      "cell_type": "markdown",
      "metadata": {
        "id": "rXvZsy3LzUg-"
      },
      "source": [
        "This means that the $i$th scalar of $y$ is the inner product of the $i$th row of $A$ and $x$, that is $y_i = a_i^T x$."
      ]
    },
    {
      "cell_type": "markdown",
      "metadata": {
        "id": "kLjmM7IszUg-"
      },
      "source": [
        "If we write $A$ in column form, then:"
      ]
    },
    {
      "cell_type": "markdown",
      "metadata": {
        "id": "9PqeW1oazUg-"
      },
      "source": [
        "$y = Ax =\n",
        "\\begin{bmatrix}\n",
        " \\big| & \\big| &  & \\big| \\\\[0.3em]\n",
        " a_1 & a_2 & \\cdots & a_n \\\\[0.3em]\n",
        " \\big| & \\big| &  & \\big|  \n",
        "\\end{bmatrix}\n",
        "\\begin{bmatrix}\n",
        " x_1 \\\\[0.3em]\n",
        " x_2 \\\\[0.3em]\n",
        " \\vdots \\\\[0.3em]\n",
        " x_n\n",
        "\\end{bmatrix} =\n",
        "\\begin{bmatrix}\n",
        " a_1\n",
        "\\end{bmatrix} x_1 + \n",
        "\\begin{bmatrix}\n",
        " a_2\n",
        "\\end{bmatrix} x_2 + \\dots +\n",
        "\\begin{bmatrix}\n",
        " a_n\n",
        "\\end{bmatrix} x_n\n",
        "$"
      ]
    },
    {
      "cell_type": "markdown",
      "metadata": {
        "id": "9sPWMHzGzUg-"
      },
      "source": [
        "In this case $y$ is a **[linear combination](https://en.wikipedia.org/wiki/Linear_combination)** of the *columns* of $A$, the coefficients taken from $x$."
      ]
    },
    {
      "cell_type": "markdown",
      "metadata": {
        "id": "REm7a_I_zUg-"
      },
      "source": [
        "The above examples multiply be the right with a column vector. One can multiply on the left by a row vector as well, $y^T = x^T A$ for $A \\in \\mathbb{R}^{m\\times n}$, $x\\in \\mathbb{R}^m$, $y \\in \\mathbb{R}^n$. There are two ways to express $y^T$, with $A$ expressed by its columns, with $i$th scalar of $y^T$ corresponds to the inner product of $x$ and the $i$th column of $A$:"
      ]
    },
    {
      "cell_type": "markdown",
      "metadata": {
        "id": "bfqofnOPzUg-"
      },
      "source": [
        "$y^T = x^T A = x^t \\begin{bmatrix}\n",
        " \\big| & \\big| &  & \\big| \\\\[0.3em]\n",
        " a_1 & a_2 & \\cdots & a_n \\\\[0.3em]\n",
        " \\big| & \\big| &  & \\big|  \n",
        "\\end{bmatrix} = \n",
        "\\begin{bmatrix}\n",
        " x^T a_1 & x^T a_2 & \\dots & x^T a_n   \n",
        "\\end{bmatrix}$"
      ]
    },
    {
      "cell_type": "markdown",
      "metadata": {
        "id": "K4y2TEJFzUg-"
      },
      "source": [
        "One can express $A$ by rows, where $y^T$ is a linear combination of the rows of $A$ with the scalars from $x$."
      ]
    },
    {
      "cell_type": "markdown",
      "metadata": {
        "id": "0HQpgcXAzUg-"
      },
      "source": [
        "$\\begin{equation}\n",
        "\\begin{split}\n",
        "y^T & = x^T A \\\\\n",
        "    & = \\begin{bmatrix}\n",
        " x_1 & x_2 & \\dots & x_n   \n",
        "\\end{bmatrix}\n",
        "\\begin{bmatrix}\n",
        " -- & a_1^T  & -- \\\\[0.3em]\n",
        " -- & a_2^T  & -- \\\\[0.3em]\n",
        "    & \\vdots &  \\\\[0.3em]\n",
        " -- & a_m^T  & -- \n",
        "\\end{bmatrix} \\\\\n",
        "   & = x_1 \\begin{bmatrix}-- & a_1^T  & --\\end{bmatrix} + x_2 \\begin{bmatrix}-- & a_2^T  & --\\end{bmatrix} + \\dots + x_n \\begin{bmatrix}-- & a_n^T  & --\\end{bmatrix}\n",
        "\\end{split}\n",
        "\\end{equation}$"
      ]
    },
    {
      "cell_type": "markdown",
      "metadata": {
        "id": "nYdnsdHxzUg-"
      },
      "source": [
        "### Matrix-Matrix Products"
      ]
    },
    {
      "cell_type": "markdown",
      "metadata": {
        "id": "Yd8w1r10zUg-"
      },
      "source": [
        "One can view matrix-matrix multiplication $C = AB$ as a set of vector-vector products. The $(i,j)$th entry of $C$ is the inner product of the $i$th row of $A$ and the $j$th column of $B$:"
      ]
    },
    {
      "cell_type": "markdown",
      "metadata": {
        "id": "OVm9UFsOzUg_"
      },
      "source": [
        "$C = AB =\n",
        "\\begin{bmatrix}\n",
        " -- & a_1^T  & -- \\\\[0.3em]\n",
        " -- & a_2^T  & -- \\\\[0.3em]\n",
        "    & \\vdots &  \\\\[0.3em]\n",
        " -- & a_m^T  & -- \n",
        "\\end{bmatrix}\n",
        "\\begin{bmatrix}\n",
        " \\big| & \\big| &  & \\big| \\\\[0.3em]\n",
        " b_1 & b_2 & \\cdots & b_p \\\\[0.3em]\n",
        " \\big| & \\big| &  & \\big|  \n",
        "\\end{bmatrix} = \n",
        "\\begin{bmatrix}\n",
        " a_1^T b_1 & a_1^T b_2 & \\cdots & a_1^T b_p \\\\[0.3em]\n",
        " a_2^T b_1 & a_2^T b_2 & \\cdots & a_2^T b_p \\\\[0.3em]\n",
        " \\vdots    & \\vdots    & \\ddots & \\vdots    \\\\[0.3em]\n",
        " a_m^T b_1 & a_m^T b_2 & \\cdots & a_m^T b_p \n",
        "\\end{bmatrix}$"
      ]
    },
    {
      "cell_type": "markdown",
      "metadata": {
        "id": "hIcO_1eszUg_"
      },
      "source": [
        "Here $A \\in \\mathbb{R}^{m\\times n}$ and $B \\in \\mathbb{R}^{n\\times p}$, $a_i \\in \\mathbb{R}^n$ and $b_j \\in \\mathbb{R}^n$, and $A$ is represented by rows, $B$ by columns."
      ]
    },
    {
      "cell_type": "markdown",
      "metadata": {
        "id": "DVpCDQQlzUg_"
      },
      "source": [
        "If we represent $A$ by columns and $B$ by rows, then $AB$ is the sum of the outer products:"
      ]
    },
    {
      "cell_type": "markdown",
      "metadata": {
        "id": "54HM8E3KzUg_"
      },
      "source": [
        "$C = AB =\n",
        "\\begin{bmatrix}\n",
        " \\big| & \\big| &  & \\big| \\\\[0.3em]\n",
        " a_1 & a_2 & \\cdots & a_n \\\\[0.3em]\n",
        " \\big| & \\big| &  & \\big|  \n",
        "\\end{bmatrix}\n",
        "\\begin{bmatrix}\n",
        " -- & b_1^T  & -- \\\\[0.3em]\n",
        " -- & b_2^T  & -- \\\\[0.3em]\n",
        "    & \\vdots &  \\\\[0.3em]\n",
        " -- & b_n^T  & -- \n",
        "\\end{bmatrix}\n",
        "= \\sum_{i=1}^n a_i b_i^T\n",
        "$"
      ]
    },
    {
      "cell_type": "markdown",
      "metadata": {
        "id": "o599g2EmzUg_"
      },
      "source": [
        "This means that $AB$ is the sum over all $i$ of the outer product of the $i$th column of $A$ and the $i$th row of $B$."
      ]
    },
    {
      "cell_type": "markdown",
      "metadata": {
        "id": "Jf_uq3yazUg_"
      },
      "source": [
        "One can interpret matrix-matrix operations also as a set of matrix-vector products. Representing $B$ by columns, the columns of $C$ are matrix-vector products between $A$ and the columns of $B$:"
      ]
    },
    {
      "cell_type": "markdown",
      "metadata": {
        "id": "FF4e1OaCzUg_"
      },
      "source": [
        "$C = AB = A\n",
        "\\begin{bmatrix}\n",
        " \\big| & \\big| &  & \\big| \\\\[0.3em]\n",
        " b_1 & b_2 & \\cdots & b_p \\\\[0.3em]\n",
        " \\big| & \\big| &  & \\big|  \n",
        "\\end{bmatrix} = \n",
        "\\begin{bmatrix}\n",
        " \\big| & \\big| &  & \\big| \\\\[0.3em]\n",
        " A b_1 & A b_2 & \\cdots & A b_p \\\\[0.3em]\n",
        " \\big| & \\big| &  & \\big|  \n",
        "\\end{bmatrix}\n",
        "$"
      ]
    },
    {
      "cell_type": "markdown",
      "metadata": {
        "id": "fXrkFZpezUg_"
      },
      "source": [
        "In this interpretation the $i$th column of $C$ is the matrix-vector product with the vector on the right, i.e. $c_i = A b_i$."
      ]
    },
    {
      "cell_type": "markdown",
      "metadata": {
        "id": "COOavpcpzUg_"
      },
      "source": [
        "Representing $A$ by rows, the rows of $C$ are the matrix-vector products between the rows of $A$ and $B$:"
      ]
    },
    {
      "cell_type": "markdown",
      "metadata": {
        "id": "l1niETLlzUg_"
      },
      "source": [
        "$C = AB = \\begin{bmatrix}\n",
        " -- & a_1^T  & -- \\\\[0.3em]\n",
        " -- & a_2^T  & -- \\\\[0.3em]\n",
        "    & \\vdots &  \\\\[0.3em]\n",
        " -- & a_m^T  & -- \n",
        "\\end{bmatrix}\n",
        "B = \n",
        "\\begin{bmatrix}\n",
        " -- & a_1^T B & -- \\\\[0.3em]\n",
        " -- & a_2^T B & -- \\\\[0.3em]\n",
        "    & \\vdots &  \\\\[0.3em]\n",
        " -- & a_n^T B & -- \n",
        "\\end{bmatrix}$"
      ]
    },
    {
      "cell_type": "markdown",
      "metadata": {
        "id": "KvENXfKjzUg_"
      },
      "source": [
        "The $i$th row of $C$ is the matrix-vector product with the vector on the left, i.e. $c_i^T = a_i^T B$."
      ]
    },
    {
      "cell_type": "markdown",
      "metadata": {
        "id": "zydmmMtmzUg_"
      },
      "source": [
        "#### Notes on Matrix-Matrix Products"
      ]
    },
    {
      "cell_type": "markdown",
      "metadata": {
        "id": "STb75tpMzUg_"
      },
      "source": [
        "**Matrix multiplication is associative:** $(AB)C = A(BC)$"
      ]
    },
    {
      "cell_type": "markdown",
      "metadata": {
        "id": "jOpmSyXDzUg_"
      },
      "source": [
        "**Matrix multiplication is distributive:** $A(B + C) = AB + AC$"
      ]
    },
    {
      "cell_type": "markdown",
      "metadata": {
        "id": "w2wrZVRxzUg_"
      },
      "source": [
        "**Matrix multiplication is, in general, not commutative;** It can be the case that $AB \\neq BA$. (For example, if $A \\in \\mathbb{R}^{m\\times n}$ and $B \\in \\mathbb{R}^{n\\times q}$, the matrix product $BA$ does not even exist if $m$ and $q$ are not equal!)"
      ]
    },
    {
      "cell_type": "markdown",
      "metadata": {
        "id": "Eu4LTtZHzUg_"
      },
      "source": [
        "## Identity Matrix"
      ]
    },
    {
      "cell_type": "markdown",
      "metadata": {
        "id": "IuXoOZygzUg_"
      },
      "source": [
        "The **identity matrix** $I \\in \\mathbb{R}^{n\\times n}$ is a square matrix with the value $1$ on the diagonal and $0$ everywhere else:"
      ]
    },
    {
      "cell_type": "markdown",
      "metadata": {
        "id": "UiJd0lbUzUhB"
      },
      "source": [
        "$I_{ij} = \\left\\{\n",
        "\\begin{array}{lr}\n",
        " 1 & i = j\\\\\n",
        " 0 & i \\neq j\n",
        "\\end{array}\n",
        "\\right.\n",
        "$"
      ]
    },
    {
      "cell_type": "markdown",
      "metadata": {
        "id": "uRhtkJKPzUhC"
      },
      "source": [
        "For all $A \\in \\mathbb{R}^{m\\times n}$:"
      ]
    },
    {
      "cell_type": "markdown",
      "metadata": {
        "id": "iQGnWJxgzUhC"
      },
      "source": [
        "$AI = A = IA$"
      ]
    },
    {
      "cell_type": "markdown",
      "metadata": {
        "id": "-I2WSLezzUhC"
      },
      "source": [
        "In the equation above multiplication has to be made possible, which means that in the portion $AI = A$ the dimensions of $I$ have to be $n\\times n$, while in $A = IA$ they have to be $m\\times m$."
      ]
    },
    {
      "cell_type": "markdown",
      "metadata": {
        "id": "01SGT6-ZzUhC"
      },
      "source": [
        "We can generate an *identity matrix* in *numpy* using:"
      ]
    },
    {
      "cell_type": "code",
      "execution_count": null,
      "metadata": {
        "colab": {
          "base_uri": "https://localhost:8080/"
        },
        "id": "PRTM7EpmzUhC",
        "outputId": "f5337be6-9615-4d69-ad3f-7311ca709fc8"
      },
      "outputs": [
        {
          "output_type": "stream",
          "name": "stdout",
          "text": [
            "A: [[ 0  1  2]\n",
            " [ 3  4  5]\n",
            " [ 6  7  8]\n",
            " [ 9 10 11]]\n"
          ]
        }
      ],
      "source": [
        "import numpy as np\n",
        "A = np.array([[0, 1, 2],\n",
        "              [3, 4, 5],\n",
        "              [6, 7, 8],\n",
        "              [9, 10, 11]])\n",
        "print(\"A:\", A)"
      ]
    },
    {
      "cell_type": "markdown",
      "metadata": {
        "id": "NJGVIogBzUhC"
      },
      "source": [
        "We can ask for the shape of $A$:"
      ]
    },
    {
      "cell_type": "code",
      "execution_count": null,
      "metadata": {
        "colab": {
          "base_uri": "https://localhost:8080/"
        },
        "id": "q6O1fn7UzUhC",
        "outputId": "f6f635e9-f707-4917-eb77-028229a05b56"
      },
      "outputs": [
        {
          "output_type": "execute_result",
          "data": {
            "text/plain": [
              "(4, 3)"
            ]
          },
          "metadata": {},
          "execution_count": 57
        }
      ],
      "source": [
        "A.shape"
      ]
    },
    {
      "cell_type": "code",
      "source": [
        "A = tf.Variable([[0, 1, 2],\n",
        "              [3, 4, 5],\n",
        "              [6, 7, 8],\n",
        "              [9, 10, 11]])\n",
        "print(\"A:\", A)"
      ],
      "metadata": {
        "colab": {
          "base_uri": "https://localhost:8080/"
        },
        "id": "3vSSlQUJFgp0",
        "outputId": "a6e46d52-aec3-4328-e2a9-b112f51759ef"
      },
      "execution_count": null,
      "outputs": [
        {
          "output_type": "stream",
          "name": "stdout",
          "text": [
            "A: <tf.Variable 'Variable:0' shape=(4, 3) dtype=int32, numpy=\n",
            "array([[ 0,  1,  2],\n",
            "       [ 3,  4,  5],\n",
            "       [ 6,  7,  8],\n",
            "       [ 9, 10, 11]], dtype=int32)>\n"
          ]
        }
      ]
    },
    {
      "cell_type": "markdown",
      "metadata": {
        "id": "W4XzIbwMzUhC"
      },
      "source": [
        "The *shape* property of a matrix contains the $m$ (number of rows) and $n$ (number of columns) properties in a tuple, in that particular order. We can create an identity matrix for the use in $AI$ by using the $n$ value: "
      ]
    },
    {
      "cell_type": "code",
      "execution_count": null,
      "metadata": {
        "colab": {
          "base_uri": "https://localhost:8080/"
        },
        "id": "_S1xcQ4LzUhC",
        "outputId": "acf5e776-c22a-4bca-da92-4f97a8a2b7b5"
      },
      "outputs": [
        {
          "output_type": "execute_result",
          "data": {
            "text/plain": [
              "array([[1, 0, 0],\n",
              "       [0, 1, 0],\n",
              "       [0, 0, 1]])"
            ]
          },
          "metadata": {},
          "execution_count": 59
        }
      ],
      "source": [
        "np.identity(A.shape[1], dtype=\"int\")"
      ]
    },
    {
      "cell_type": "code",
      "source": [
        "tf.eye(3,3)"
      ],
      "metadata": {
        "colab": {
          "base_uri": "https://localhost:8080/"
        },
        "id": "2Oe1KgDiGYeM",
        "outputId": "431f1dfc-653b-4004-86ac-8d3c12b1ddfd"
      },
      "execution_count": null,
      "outputs": [
        {
          "output_type": "execute_result",
          "data": {
            "text/plain": [
              "<tf.Tensor: shape=(3, 3), dtype=float32, numpy=\n",
              "array([[1., 0., 0.],\n",
              "       [0., 1., 0.],\n",
              "       [0., 0., 1.]], dtype=float32)>"
            ]
          },
          "metadata": {},
          "execution_count": 67
        }
      ]
    },
    {
      "cell_type": "code",
      "source": [
        "tf.eye(3,3,dtype =tf.dtypes.int32)"
      ],
      "metadata": {
        "colab": {
          "base_uri": "https://localhost:8080/"
        },
        "id": "bEFFJfqxHTHC",
        "outputId": "dd0801a9-55f1-4cc9-91f0-77208a6d0ded"
      },
      "execution_count": null,
      "outputs": [
        {
          "output_type": "execute_result",
          "data": {
            "text/plain": [
              "<tf.Tensor: shape=(3, 3), dtype=int32, numpy=\n",
              "array([[1, 0, 0],\n",
              "       [0, 1, 0],\n",
              "       [0, 0, 1]], dtype=int32)>"
            ]
          },
          "metadata": {},
          "execution_count": 71
        }
      ]
    },
    {
      "cell_type": "markdown",
      "metadata": {
        "id": "IQ6FEnyvzUhC"
      },
      "source": [
        "Note that we specify the *dtype* parameter to *identity* as *int*, since the default would return a matrix of *float* values."
      ]
    },
    {
      "cell_type": "markdown",
      "metadata": {
        "id": "7ZU6mtgizUhC"
      },
      "source": [
        "To generate an identity matrix for the use in $IA$ we would use the $m$ value:"
      ]
    },
    {
      "cell_type": "code",
      "execution_count": null,
      "metadata": {
        "colab": {
          "base_uri": "https://localhost:8080/"
        },
        "id": "AL3YZ7r1zUhC",
        "outputId": "7a171380-7bd8-4183-ccbd-6c07db8f39a4"
      },
      "outputs": [
        {
          "output_type": "execute_result",
          "data": {
            "text/plain": [
              "array([[1, 0, 0, 0],\n",
              "       [0, 1, 0, 0],\n",
              "       [0, 0, 1, 0],\n",
              "       [0, 0, 0, 1]])"
            ]
          },
          "metadata": {},
          "execution_count": 72
        }
      ],
      "source": [
        "np.identity(A.shape[0], dtype=\"int\")"
      ]
    },
    {
      "cell_type": "code",
      "source": [
        "tf.eye(4,4,dtype =tf.dtypes.int32)"
      ],
      "metadata": {
        "colab": {
          "base_uri": "https://localhost:8080/"
        },
        "id": "ZRs7Ik4YHtdx",
        "outputId": "d5de3733-73ef-4400-91a6-a1bc7aac011b"
      },
      "execution_count": null,
      "outputs": [
        {
          "output_type": "execute_result",
          "data": {
            "text/plain": [
              "<tf.Tensor: shape=(4, 4), dtype=int32, numpy=\n",
              "array([[1, 0, 0, 0],\n",
              "       [0, 1, 0, 0],\n",
              "       [0, 0, 1, 0],\n",
              "       [0, 0, 0, 1]], dtype=int32)>"
            ]
          },
          "metadata": {},
          "execution_count": 73
        }
      ]
    },
    {
      "cell_type": "markdown",
      "metadata": {
        "id": "i0sKgrGhzUhC"
      },
      "source": [
        "We can compute the dot product of $A$ and its identity matrix $I$:"
      ]
    },
    {
      "cell_type": "code",
      "execution_count": null,
      "metadata": {
        "colab": {
          "base_uri": "https://localhost:8080/"
        },
        "id": "YhIaznY7zUhC",
        "outputId": "6beadd66-6747-417b-b6cb-cf2f041c1283"
      },
      "outputs": [
        {
          "output_type": "execute_result",
          "data": {
            "text/plain": [
              "array([[ 0,  1,  2],\n",
              "       [ 3,  4,  5],\n",
              "       [ 6,  7,  8],\n",
              "       [ 9, 10, 11]])"
            ]
          },
          "metadata": {},
          "execution_count": 74
        }
      ],
      "source": [
        "n = A.shape[1]\n",
        "I = np.array(np.identity(n, dtype=\"int\"))\n",
        "np.dot(A, I)"
      ]
    },
    {
      "cell_type": "code",
      "source": [
        "I = tf.eye(3,3,dtype =tf.dtypes.int32)\n",
        "tf.tensordot(A,I, axes=1)"
      ],
      "metadata": {
        "colab": {
          "base_uri": "https://localhost:8080/"
        },
        "id": "GfoFuBOtH3ax",
        "outputId": "34e66777-d694-498b-928a-909c6c62f1ba"
      },
      "execution_count": null,
      "outputs": [
        {
          "output_type": "execute_result",
          "data": {
            "text/plain": [
              "<tf.Tensor: shape=(4, 3), dtype=int32, numpy=\n",
              "array([[ 0,  1,  2],\n",
              "       [ 3,  4,  5],\n",
              "       [ 6,  7,  8],\n",
              "       [ 9, 10, 11]], dtype=int32)>"
            ]
          },
          "metadata": {},
          "execution_count": 76
        }
      ]
    },
    {
      "cell_type": "markdown",
      "metadata": {
        "id": "vrg0VYkbzUhC"
      },
      "source": [
        "The same is true for the other direction:"
      ]
    },
    {
      "cell_type": "code",
      "execution_count": null,
      "metadata": {
        "colab": {
          "base_uri": "https://localhost:8080/"
        },
        "id": "-eaUg0bbzUhC",
        "outputId": "bf1f377c-1312-4fd1-b34d-59d680c6524f"
      },
      "outputs": [
        {
          "output_type": "execute_result",
          "data": {
            "text/plain": [
              "array([[ 0,  1,  2],\n",
              "       [ 3,  4,  5],\n",
              "       [ 6,  7,  8],\n",
              "       [ 9, 10, 11]])"
            ]
          },
          "metadata": {},
          "execution_count": 77
        }
      ],
      "source": [
        "m = A.shape[0]\n",
        "I = np.array(np.identity(m, dtype=\"int\"))\n",
        "np.dot(I, A)"
      ]
    },
    {
      "cell_type": "code",
      "source": [
        "I = tf.eye(4,4,dtype =tf.dtypes.int32)\n",
        "tf.tensordot(I,A, axes=1)"
      ],
      "metadata": {
        "colab": {
          "base_uri": "https://localhost:8080/"
        },
        "id": "z1fXyXcTIXsH",
        "outputId": "5088e7f7-1506-4f84-c528-517c983f821f"
      },
      "execution_count": null,
      "outputs": [
        {
          "output_type": "execute_result",
          "data": {
            "text/plain": [
              "<tf.Tensor: shape=(4, 3), dtype=int32, numpy=\n",
              "array([[ 0,  1,  2],\n",
              "       [ 3,  4,  5],\n",
              "       [ 6,  7,  8],\n",
              "       [ 9, 10, 11]], dtype=int32)>"
            ]
          },
          "metadata": {},
          "execution_count": 78
        }
      ]
    },
    {
      "cell_type": "markdown",
      "metadata": {
        "id": "pS_iaSqtzUhC"
      },
      "source": [
        "## Diagonal Matrix"
      ]
    },
    {
      "cell_type": "markdown",
      "metadata": {
        "id": "xMeAN6_LzUhD"
      },
      "source": [
        "In the **diagonal matrix** non-diagonal elements are $0$, that is $D = diag(d_1, d_2, \\dots{}, d_n)$, with:"
      ]
    },
    {
      "cell_type": "markdown",
      "metadata": {
        "id": "-416mS8wzUhD"
      },
      "source": [
        "$D_{ij} = \\left\\{\n",
        "\\begin{array}{lr}\n",
        " d_i & i = j\\\\\n",
        " 0 & i \\neq j\n",
        "\\end{array}\n",
        "\\right.\n",
        "$"
      ]
    },
    {
      "cell_type": "markdown",
      "metadata": {
        "id": "2J5fUgygzUhD"
      },
      "source": [
        "The identity matrix is a special case of a diagonal matrix: $I = diag(1, 1, \\dots{}, 1)$."
      ]
    },
    {
      "cell_type": "markdown",
      "metadata": {
        "id": "tCtDGfe_zUhD"
      },
      "source": [
        "In *numpy* we can create a *diagonal matrix* from any given matrix using the *diag* function:"
      ]
    },
    {
      "cell_type": "code",
      "execution_count": null,
      "metadata": {
        "colab": {
          "base_uri": "https://localhost:8080/"
        },
        "id": "yXulQeRjzUhD",
        "outputId": "064dbcf0-fb70-4fdf-9312-76697df5f4cf"
      },
      "outputs": [
        {
          "output_type": "execute_result",
          "data": {
            "text/plain": [
              "array([ 0,  5, 10, 15])"
            ]
          },
          "metadata": {},
          "execution_count": 79
        }
      ],
      "source": [
        "import numpy as np\n",
        "A = np.array([[0,   1,  2,  3],\n",
        "              [4,   5,  6,  7],\n",
        "              [8,   9, 10, 11],\n",
        "              [12, 13, 14, 15]])\n",
        "np.diag(A)"
      ]
    },
    {
      "cell_type": "code",
      "source": [
        "tf.linalg.diag_part(A)"
      ],
      "metadata": {
        "colab": {
          "base_uri": "https://localhost:8080/"
        },
        "id": "5FOA078tJKQl",
        "outputId": "4b0c811e-c243-4376-a74c-68832501d144"
      },
      "execution_count": null,
      "outputs": [
        {
          "output_type": "execute_result",
          "data": {
            "text/plain": [
              "<tf.Tensor: shape=(4,), dtype=int64, numpy=array([ 0,  5, 10, 15])>"
            ]
          },
          "metadata": {},
          "execution_count": 83
        }
      ]
    },
    {
      "cell_type": "markdown",
      "metadata": {
        "id": "e2HpiioezUhD"
      },
      "source": [
        "An optional parameter *k* to the *diag* function allows us to extract the diagonal above the main diagonal with a positive *k*, and below the main diagonal with a negative *k*:"
      ]
    },
    {
      "cell_type": "code",
      "execution_count": null,
      "metadata": {
        "colab": {
          "base_uri": "https://localhost:8080/"
        },
        "id": "NpsLGArZzUhD",
        "outputId": "6b4dd3d6-ed64-4eac-c687-a1aa23ae460d"
      },
      "outputs": [
        {
          "output_type": "execute_result",
          "data": {
            "text/plain": [
              "array([ 1,  6, 11])"
            ]
          },
          "metadata": {},
          "execution_count": 84
        }
      ],
      "source": [
        "np.diag(A, k=1)"
      ]
    },
    {
      "cell_type": "code",
      "source": [
        "tf.linalg.diag_part(A, k=1)"
      ],
      "metadata": {
        "colab": {
          "base_uri": "https://localhost:8080/"
        },
        "id": "QdjUCQaPLziU",
        "outputId": "9d29e391-5f27-4fff-9620-567a2b34a8d2"
      },
      "execution_count": null,
      "outputs": [
        {
          "output_type": "execute_result",
          "data": {
            "text/plain": [
              "<tf.Tensor: shape=(3,), dtype=int64, numpy=array([ 1,  6, 11])>"
            ]
          },
          "metadata": {},
          "execution_count": 85
        }
      ]
    },
    {
      "cell_type": "code",
      "execution_count": null,
      "metadata": {
        "colab": {
          "base_uri": "https://localhost:8080/"
        },
        "id": "pJVK5jQczUhD",
        "outputId": "e970b6f7-c548-4762-a853-a47b7cba0fba"
      },
      "outputs": [
        {
          "output_type": "execute_result",
          "data": {
            "text/plain": [
              "array([ 4,  9, 14])"
            ]
          },
          "metadata": {},
          "execution_count": 81
        }
      ],
      "source": [
        "np.diag(A, k=-1)"
      ]
    },
    {
      "cell_type": "code",
      "source": [
        "tf.linalg.diag_part(A, k=-1)"
      ],
      "metadata": {
        "colab": {
          "base_uri": "https://localhost:8080/"
        },
        "id": "9P7WDTEfL2dF",
        "outputId": "8a934c9a-075b-4e39-b6a5-87c11a61c240"
      },
      "execution_count": null,
      "outputs": [
        {
          "output_type": "execute_result",
          "data": {
            "text/plain": [
              "<tf.Tensor: shape=(3,), dtype=int64, numpy=array([ 4,  9, 14])>"
            ]
          },
          "metadata": {},
          "execution_count": 86
        }
      ]
    },
    {
      "cell_type": "markdown",
      "metadata": {
        "id": "Umxc_x0nzUhD"
      },
      "source": [
        "## Transpose of a Matrix"
      ]
    },
    {
      "cell_type": "markdown",
      "metadata": {
        "id": "hXDkmC65zUhD"
      },
      "source": [
        "**Transposing** a matrix is achieved by *flipping* the rows and columns. For a matrix $A \\in \\mathbb{R}^{m\\times n}$ the transpose $A^T \\in \\mathbb{R}^{n\\times m}$ is the $n\\times m$ matrix given by:"
      ]
    },
    {
      "cell_type": "markdown",
      "metadata": {
        "id": "LczAbnZYzUhD"
      },
      "source": [
        "$(A^T)_{ij} = A_{ji}$"
      ]
    },
    {
      "cell_type": "markdown",
      "metadata": {
        "id": "B1SYdQb7zUhD"
      },
      "source": [
        "Properties of transposes:"
      ]
    },
    {
      "cell_type": "markdown",
      "metadata": {
        "id": "1T2Zv-z9zUhD"
      },
      "source": [
        "- $(A^T)^T = A$\n",
        "- $(AB)^T = B^T A^T$\n",
        "- $(A+B)^T = A^T + B^T$"
      ]
    },
    {
      "cell_type": "markdown",
      "metadata": {
        "id": "Q6Z-2K3pzUhD"
      },
      "source": [
        "## Symmetric Metrices"
      ]
    },
    {
      "cell_type": "markdown",
      "metadata": {
        "id": "vH07Cjy0zUhD"
      },
      "source": [
        "Square metrices $A \\in \\mathbb{R}^{n\\times n}$ are **symmetric**, if $A = A^T$."
      ]
    },
    {
      "cell_type": "markdown",
      "metadata": {
        "id": "yX2OU_6PzUhD"
      },
      "source": [
        "$A$ is **anti-symmetric**, if $A = -A^T$."
      ]
    },
    {
      "cell_type": "markdown",
      "metadata": {
        "id": "JrTLR8wqzUhD"
      },
      "source": [
        "For any matrix $A \\in \\mathbb{R}^{n\\times n}$, the matrix $A + A^T$ is **symmetric**."
      ]
    },
    {
      "cell_type": "markdown",
      "metadata": {
        "id": "sdKaGtIKzUhD"
      },
      "source": [
        "For any matrix $A \\in \\mathbb{R}^{n\\times n}$, the matrix $A - A^T$ is **anti-symmetric**."
      ]
    },
    {
      "cell_type": "markdown",
      "metadata": {
        "id": "9l1G96KIzUhD"
      },
      "source": [
        "Thus, any square matrix $A \\in \\mathbb{R}^{n\\times n}$ can be represented as a sum of a symmetric matrix and an anti-symmetric matrix:"
      ]
    },
    {
      "cell_type": "markdown",
      "metadata": {
        "id": "9LaBtWgpzUhD"
      },
      "source": [
        "$A = \\frac{1}{2} (A + A^T) + \\frac{1}{2} (A - A^T)$"
      ]
    },
    {
      "cell_type": "markdown",
      "metadata": {
        "id": "bqwyAT0wzUhE"
      },
      "source": [
        "The first matrix on the right, i.e. $\\frac{1}{2} (A + A^T)$ is symmetric. The second matrix $\\frac{1}{2} (A - A^T)$ is anti-symmetric."
      ]
    },
    {
      "cell_type": "markdown",
      "metadata": {
        "id": "anpkpIhfzUhE"
      },
      "source": [
        "$\\mathbb{S}^n$ is the set of all symmetric matrices of size $n$."
      ]
    },
    {
      "cell_type": "markdown",
      "metadata": {
        "id": "pIeJQ8FRzUhE"
      },
      "source": [
        "$A \\in \\mathbb{S}^n$ means that $A$ is symmetric and of the size $n\\times n$."
      ]
    },
    {
      "cell_type": "markdown",
      "metadata": {
        "id": "RKvj7sL5zUhE"
      },
      "source": [
        "## The Trace"
      ]
    },
    {
      "cell_type": "markdown",
      "metadata": {
        "id": "ovKX60M3zUhE"
      },
      "source": [
        "The **trace** of a square matrix $A \\in \\mathbb{R}^{n\\times n}$ is $tr(A)$ (or $trA$) is the sum of the diagonal elements in the matrix:"
      ]
    },
    {
      "cell_type": "markdown",
      "metadata": {
        "id": "CLazMwv_zUhE"
      },
      "source": [
        "$trA = \\sum_{i=1}^n A_{ii}$"
      ]
    },
    {
      "cell_type": "markdown",
      "metadata": {
        "id": "A4PcmJkgzUhE"
      },
      "source": [
        "Properties of the **trace**:"
      ]
    },
    {
      "cell_type": "markdown",
      "metadata": {
        "id": "vJB2RzK5zUhE"
      },
      "source": [
        "- For $A \\in \\mathbb{R}^{n\\times n}$, $\\mathrm{tr}A = \\mathrm{tr}A^T$\n",
        "- For $A,B \\in \\mathbb{R}^{n\\times n}$, $\\mathrm{tr}(A + B) = \\mathrm{tr}A + \\mathrm{tr}B$\n",
        "- For $A \\in \\mathbb{R}^{n\\times n}$, $t \\in \\mathbb{R}$, $\\mathrm{tr}(tA) = t \\mathrm{tr}A$\n",
        "- For $A,B$ such that $AB$ is square, $\\mathrm{tr}AB = \\mathrm{tr}BA$\n",
        "- For $A,B,C$ such that $ABC$ is square, $\\mathrm{tr}ABC = \\mathrm{tr}BCA = \\mathrm{tr}CAB$, and so on for the product of more matrices."
      ]
    },
    {
      "cell_type": "markdown",
      "metadata": {
        "id": "6K-xPwNgzUhE"
      },
      "source": [
        "See for proofs the paper!"
      ]
    },
    {
      "cell_type": "markdown",
      "metadata": {
        "id": "xkiUP5ESzUhE"
      },
      "source": [
        "## Norms"
      ]
    },
    {
      "cell_type": "markdown",
      "metadata": {
        "id": "bXQN1hyozUhE"
      },
      "source": [
        "The **norm** of a vector $x$ is $\\| x\\|$, informally the length of a vector."
      ]
    },
    {
      "cell_type": "markdown",
      "metadata": {
        "id": "BpaHwsDJzUhE"
      },
      "source": [
        "Example: the Euclidean or $\\mathscr{l}_2$ norm:"
      ]
    },
    {
      "cell_type": "markdown",
      "metadata": {
        "id": "Y573Bo5XzUhE"
      },
      "source": [
        "$\\|x\\|_2 = \\sqrt{\\sum_{i=1}^n{x_i^2}}$"
      ]
    },
    {
      "cell_type": "markdown",
      "metadata": {
        "id": "ZeVF-QlHzUhE"
      },
      "source": [
        "Note: $\\|x\\|_2^2 = x^T x$"
      ]
    },
    {
      "cell_type": "markdown",
      "metadata": {
        "id": "bSbozfhxzUhE"
      },
      "source": [
        "A **norm** is any function $f : \\mathbb{R}^n \\rightarrow \\mathbb{R}$ that satisfies the following properties:"
      ]
    },
    {
      "cell_type": "markdown",
      "metadata": {
        "id": "fBY7HvsQzUhE"
      },
      "source": [
        "- For all $x \\in \\mathbb{R}^n$, $f(x) \\geq 0$ (non-negativity)\n",
        "- $f(x) = 0$ if and only if $x = 0$ (definiteness)\n",
        "- For all $x \\in \\mathbb{R}^n$, $t \\in \\mathbb{R}$, $f(tx) = |t|\\ f(x)$ (homogeneity)\n",
        "- For all $x, y \\in \\mathbb{R}^n$, $f(x + y) \\leq f(x) + f(y)$ (triangle inequality)"
      ]
    },
    {
      "cell_type": "markdown",
      "metadata": {
        "id": "AbaxzylrzUhE"
      },
      "source": [
        "Norm $\\mathscr{l}_1$:"
      ]
    },
    {
      "cell_type": "markdown",
      "metadata": {
        "id": "AtAo3_6TzUhE"
      },
      "source": [
        "$\\|x\\|_1 = \\sum_{i=1}^n{|x_i|}$"
      ]
    },
    {
      "cell_type": "markdown",
      "metadata": {
        "id": "qSk4Nl8yzUhE"
      },
      "source": [
        "Norm $\\mathscr{l}_\\infty$:"
      ]
    },
    {
      "cell_type": "markdown",
      "metadata": {
        "id": "evJVrLk8zUhE"
      },
      "source": [
        "$\\|x\\|_\\infty = \\max_i|x_i|$"
      ]
    },
    {
      "cell_type": "markdown",
      "metadata": {
        "id": "kBSPAdwrzUhE"
      },
      "source": [
        "All these three norms are examples of the $\\mathscr{l}_p$ norms, with $p$ a real number parameter $p \\geq 1$:"
      ]
    },
    {
      "cell_type": "markdown",
      "metadata": {
        "id": "9j6h--PyzUhE"
      },
      "source": [
        "$\\|x\\|_p = \\left(\\sum_{i=1}^n{|x_i|^p}\\right)^{\\frac{1}{p}}$"
      ]
    },
    {
      "cell_type": "markdown",
      "metadata": {
        "id": "emAZeMKzzUhE"
      },
      "source": [
        "*Frobenius norm* for matrices:"
      ]
    },
    {
      "cell_type": "markdown",
      "metadata": {
        "id": "EMhaqeHVzUhF"
      },
      "source": [
        "$\\|A\\|_F = \\sqrt{\\sum_{i=1}^m\\sum_{i=1}^n A_{ij}^2} = \\sqrt{\\mathrm{tr}(A^T A)}$"
      ]
    },
    {
      "cell_type": "markdown",
      "metadata": {
        "id": "6ZDg-D52zUhF"
      },
      "source": [
        "And many more."
      ]
    },
    {
      "cell_type": "markdown",
      "metadata": {
        "id": "cgzbOkJvzUhF"
      },
      "source": [
        "## Linear Independence and Rank"
      ]
    },
    {
      "cell_type": "markdown",
      "metadata": {
        "id": "VeUB1YpvzUhF"
      },
      "source": [
        "A set of vectors $\\{x_1, x_2, \\dots{}, x_n\\} \\subset \\mathbb{R}^m$ is said to be **(linearly) independent** if no vector can be represented as a linear combination of the remaining vectors."
      ]
    },
    {
      "cell_type": "markdown",
      "metadata": {
        "id": "PXMcE2_vzUhF"
      },
      "source": [
        "A set of vectors $\\{x_1, x_2, \\dots{}, x_n\\} \\subset \\mathbb{R}^m$ is said to be **(lineraly) dependent** if one vector from this set can be represented as a linear combination of the remaining vectors."
      ]
    },
    {
      "cell_type": "markdown",
      "metadata": {
        "id": "UWrmUTqfzUhF"
      },
      "source": [
        "For some scalar values $\\alpha_1, \\dots{}, \\alpha_{n-1} \\in \\mathbb{R}$ the vectors $x_1, \\dots{}, x_n$ are linerly dependent, if:"
      ]
    },
    {
      "cell_type": "markdown",
      "metadata": {
        "id": "6vux_opszUhF"
      },
      "source": [
        "$\\begin{equation}\n",
        "x_n = \\sum_{i=1}^{n-1}{\\alpha_i x_i}\n",
        "\\end{equation}$"
      ]
    },
    {
      "cell_type": "markdown",
      "metadata": {
        "id": "juE7CE-JzUhF"
      },
      "source": [
        "Example: The following vectors are lineraly dependent, because $x_3 = -2 x_1 + x_2$"
      ]
    },
    {
      "cell_type": "markdown",
      "metadata": {
        "id": "dF5OCt2YzUhF"
      },
      "source": [
        "$x_1 = \\begin{bmatrix}\n",
        " 1 \\\\[0.3em]\n",
        " 2 \\\\[0.3em]\n",
        " 3 \n",
        "\\end{bmatrix}\n",
        "\\quad\n",
        "x_2 = \\begin{bmatrix}\n",
        " 4 \\\\[0.3em]\n",
        " 1 \\\\[0.3em]\n",
        " 5 \n",
        "\\end{bmatrix}\n",
        "\\quad\n",
        "x_3 = \\begin{bmatrix}\n",
        " 2 \\\\[0.3em]\n",
        " -1 \\\\[0.3em]\n",
        " -1 \n",
        "\\end{bmatrix}\n",
        "$"
      ]
    },
    {
      "cell_type": "markdown",
      "metadata": {
        "id": "eMIeCFs0zUhF"
      },
      "source": [
        "### Column Rank of a Matrix"
      ]
    },
    {
      "cell_type": "markdown",
      "metadata": {
        "id": "upDvFxCizUhF"
      },
      "source": [
        "The **column rank** of a matrix $A \\in \\mathbb{R}^{m\\times n}$ is the size of the largest subset of columns of $A$ that constitute a linear independent set. Informaly this is the number of linearly independent columns of $A$."
      ]
    },
    {
      "cell_type": "markdown",
      "metadata": {
        "id": "bfFDSATozUhF"
      },
      "source": [
        "### Row Rank of a Matrix"
      ]
    },
    {
      "cell_type": "markdown",
      "metadata": {
        "id": "J30wDGqozUhF"
      },
      "source": [
        "The **row rank** of a matrix $A \\in \\mathbb{R}^{m\\times n}$ is the largest number of rows of $A$ that constitute a lineraly independent set."
      ]
    },
    {
      "cell_type": "markdown",
      "metadata": {
        "id": "lInIGoTpzUhF"
      },
      "source": [
        "### Rank of a Matrix"
      ]
    },
    {
      "cell_type": "markdown",
      "metadata": {
        "id": "cIQvZsZOzUhF"
      },
      "source": [
        "For any matrix $A \\in \\mathbb{R}^{m\\times n}$, the column rank of $A$ is equal to the row rank of $A$. Both quantities are referred to collectively as the rank of $A$, denoted as $rank(A)$. Here are some basic properties of the rank:"
      ]
    },
    {
      "cell_type": "markdown",
      "metadata": {
        "id": "fWmgs8ztzUhF"
      },
      "source": [
        "- For $A \\in \\mathbb{R}^{m\\times n}$, $rank(A) \\leq \\min(m, n)$. If $rank(A) = \\min(m, n)$, then $A$ is said to be\n",
        "**full rank**.\n",
        "- For $A \\in \\mathbb{R}^{m\\times n}$, $rank(A) = rank(A^T)$\n",
        "- For $A \\in \\mathbb{R}^{m\\times n}$, $B \\in \\mathbb{R}^{n\\times p}$, $rank(AB) \\leq \\min(rank(A), rank(B))$\n",
        "- For $A,B \\in \\mathbb{R}^{m\\times n}$, $rank(A + B) \\leq rank(A) + rank(B)$"
      ]
    },
    {
      "cell_type": "markdown",
      "metadata": {
        "id": "vI1-qKyPzUhF"
      },
      "source": [
        "## Subtraction and Addition of Metrices"
      ]
    },
    {
      "cell_type": "markdown",
      "metadata": {
        "id": "5uagzbXnzUhF"
      },
      "source": [
        "Assume $A \\in \\mathbb{R}^{m\\times n}$ and $B \\in \\mathbb{R}^{m\\times n}$, that is $A$ and $B$ are of the same size, to add $A$ to $B$, or to subtract $B$ from $A$, we add or subtract corresponding entries:"
      ]
    },
    {
      "cell_type": "markdown",
      "metadata": {
        "id": "4Ywo8wOlzUhF"
      },
      "source": [
        "$A + B =\n",
        "\\begin{bmatrix}\n",
        " a_{11} & a_{12} & \\cdots & a_{1n} \\\\[0.3em]\n",
        " a_{21} & a_{22} & \\cdots & a_{2n} \\\\[0.3em]\n",
        " \\vdots & \\vdots & \\ddots & \\vdots \\\\[0.3em]\n",
        " a_{m1} & a_{m2} & \\cdots & a_{mn}\n",
        "\\end{bmatrix} +\n",
        "\\begin{bmatrix}\n",
        " b_{11} & b_{12} & \\cdots & b_{1n} \\\\[0.3em]\n",
        " b_{21} & b_{22} & \\cdots & b_{2n} \\\\[0.3em]\n",
        " \\vdots & \\vdots & \\ddots & \\vdots \\\\[0.3em]\n",
        " b_{m1} & b_{m2} & \\cdots & b_{mn}\n",
        "\\end{bmatrix} =\n",
        "\\begin{bmatrix}\n",
        " a_{11} + b_{11} & a_{12} + b_{12} & \\cdots & a_{1n} + b_{1n} \\\\[0.3em]\n",
        " a_{21} + b_{21} & a_{22} + b_{22} & \\cdots & a_{2n} + b_{2n} \\\\[0.3em]\n",
        " \\vdots & \\vdots & \\ddots & \\vdots \\\\[0.3em]\n",
        " a_{m1} + b_{m1} & a_{m2} + b_{m2} & \\cdots & a_{mn} + b_{mn}\n",
        "\\end{bmatrix}\n",
        "$"
      ]
    },
    {
      "cell_type": "markdown",
      "metadata": {
        "id": "hnDwj8PIzUhF"
      },
      "source": [
        "The same is applies to subtraction:"
      ]
    },
    {
      "cell_type": "markdown",
      "metadata": {
        "id": "QVsXm4n2zUhG"
      },
      "source": [
        "$A - B =\n",
        "\\begin{bmatrix}\n",
        " a_{11} & a_{12} & \\cdots & a_{1n} \\\\[0.3em]\n",
        " a_{21} & a_{22} & \\cdots & a_{2n} \\\\[0.3em]\n",
        " \\vdots & \\vdots & \\ddots & \\vdots \\\\[0.3em]\n",
        " a_{m1} & a_{m2} & \\cdots & a_{mn}\n",
        "\\end{bmatrix} -\n",
        "\\begin{bmatrix}\n",
        " b_{11} & b_{12} & \\cdots & b_{1n} \\\\[0.3em]\n",
        " b_{21} & b_{22} & \\cdots & b_{2n} \\\\[0.3em]\n",
        " \\vdots & \\vdots & \\ddots & \\vdots \\\\[0.3em]\n",
        " b_{m1} & b_{m2} & \\cdots & b_{mn}\n",
        "\\end{bmatrix} =\n",
        "\\begin{bmatrix}\n",
        " a_{11} - b_{11} & a_{12} - b_{12} & \\cdots & a_{1n} - b_{1n} \\\\[0.3em]\n",
        " a_{21} - b_{21} & a_{22} - b_{22} & \\cdots & a_{2n} - b_{2n} \\\\[0.3em]\n",
        " \\vdots & \\vdots & \\ddots & \\vdots \\\\[0.3em]\n",
        " a_{m1} - b_{m1} & a_{m2} - b_{m2} & \\cdots & a_{mn} - b_{mn}\n",
        "\\end{bmatrix}\n",
        "$"
      ]
    },
    {
      "cell_type": "markdown",
      "metadata": {
        "id": "mRiiAACtzUhG"
      },
      "source": [
        "In Python using *numpy* this can be achieved using the following code:"
      ]
    },
    {
      "cell_type": "code",
      "execution_count": null,
      "metadata": {
        "colab": {
          "base_uri": "https://localhost:8080/"
        },
        "id": "VWbvXGH0zUhG",
        "outputId": "2f5d24f2-4e47-4948-d34b-5098b20e589a"
      },
      "outputs": [
        {
          "output_type": "stream",
          "name": "stdout",
          "text": [
            "np.arange(9): [0 1 2 3 4 5 6 7 8]\n",
            "np.arange(9, 18): [ 9 10 11 12 13 14 15 16 17]\n",
            "A: [[ 9 10 11]\n",
            " [12 13 14]\n",
            " [15 16 17]]\n",
            "B: [[0 1 2]\n",
            " [3 4 5]\n",
            " [6 7 8]]\n"
          ]
        }
      ],
      "source": [
        "import numpy as np\n",
        "print(\"np.arange(9):\", np.arange(9))\n",
        "print(\"np.arange(9, 18):\", np.arange(9, 18))\n",
        "A = np.arange(9, 18).reshape((3, 3))\n",
        "B = np.arange(9).reshape((3, 3))\n",
        "print(\"A:\", A)\n",
        "print(\"B:\", B)"
      ]
    },
    {
      "cell_type": "code",
      "source": [
        "start = 0\n",
        "limit = 9\n",
        "delta=1\n",
        "print(\"tf.range(9):\", tf.range(start, limit, delta))\n",
        "print(\"np.arange(9, 18):\", tf.range(9, 18, 1))\n",
        "A = tf.reshape(tf.range(9, 18,1),((3, 3)))\n",
        "B = tf.reshape(tf.range(0, 9,1),((3, 3)))\n",
        "print(\"A:\", A)\n",
        "print(\"B:\", B)"
      ],
      "metadata": {
        "colab": {
          "base_uri": "https://localhost:8080/"
        },
        "id": "zCE23YltMJWK",
        "outputId": "c14bdf30-6cf4-4b84-805b-27098d6b6dc3"
      },
      "execution_count": null,
      "outputs": [
        {
          "output_type": "stream",
          "name": "stdout",
          "text": [
            "tf.range(9): tf.Tensor([0 1 2 3 4 5 6 7 8], shape=(9,), dtype=int32)\n",
            "np.arange(9, 18): tf.Tensor([ 9 10 11 12 13 14 15 16 17], shape=(9,), dtype=int32)\n",
            "A: tf.Tensor(\n",
            "[[ 9 10 11]\n",
            " [12 13 14]\n",
            " [15 16 17]], shape=(3, 3), dtype=int32)\n",
            "B: tf.Tensor(\n",
            "[[0 1 2]\n",
            " [3 4 5]\n",
            " [6 7 8]], shape=(3, 3), dtype=int32)\n"
          ]
        }
      ]
    },
    {
      "cell_type": "markdown",
      "metadata": {
        "id": "b4ThVIbnzUhG"
      },
      "source": [
        "The *numpy* function *arange* is similar to the standard Python function *range*. It returns an array with $n$ elements, specified in the one parameter version only. If we provide to parameters to *arange*, it generates an array starting from the value of the first parameter and ending with a value one less than the second parameter. The function *reshape* returns us a matrix with the corresponding number of rows and columns."
      ]
    },
    {
      "cell_type": "markdown",
      "metadata": {
        "id": "lyVnx0NnzUhG"
      },
      "source": [
        "We can now add and subtract the two matrices $A$ and $B$:"
      ]
    },
    {
      "cell_type": "code",
      "execution_count": null,
      "metadata": {
        "colab": {
          "base_uri": "https://localhost:8080/"
        },
        "id": "huJG7Sp0zUhG",
        "outputId": "9f0f3e54-9881-4b07-cb53-e2970982d521"
      },
      "outputs": [
        {
          "output_type": "execute_result",
          "data": {
            "text/plain": [
              "<tf.Tensor: shape=(3, 3), dtype=int32, numpy=\n",
              "array([[ 9, 11, 13],\n",
              "       [15, 17, 19],\n",
              "       [21, 23, 25]], dtype=int32)>"
            ]
          },
          "metadata": {},
          "execution_count": 94
        }
      ],
      "source": [
        "A + B"
      ]
    },
    {
      "cell_type": "code",
      "execution_count": null,
      "metadata": {
        "colab": {
          "base_uri": "https://localhost:8080/"
        },
        "id": "2Y-ktyC3zUhG",
        "outputId": "c379e3cd-535c-4f83-d9df-762affe73c28"
      },
      "outputs": [
        {
          "output_type": "execute_result",
          "data": {
            "text/plain": [
              "<tf.Tensor: shape=(3, 3), dtype=int32, numpy=\n",
              "array([[9, 9, 9],\n",
              "       [9, 9, 9],\n",
              "       [9, 9, 9]], dtype=int32)>"
            ]
          },
          "metadata": {},
          "execution_count": 95
        }
      ],
      "source": [
        "A - B"
      ]
    },
    {
      "cell_type": "code",
      "source": [
        "tf.add(A,B)"
      ],
      "metadata": {
        "colab": {
          "base_uri": "https://localhost:8080/"
        },
        "id": "m4P5jvimNEu-",
        "outputId": "bbb8b921-7562-4818-fca8-95016a8358e2"
      },
      "execution_count": null,
      "outputs": [
        {
          "output_type": "execute_result",
          "data": {
            "text/plain": [
              "<tf.Tensor: shape=(3, 3), dtype=int32, numpy=\n",
              "array([[ 9, 11, 13],\n",
              "       [15, 17, 19],\n",
              "       [21, 23, 25]], dtype=int32)>"
            ]
          },
          "metadata": {},
          "execution_count": 96
        }
      ]
    },
    {
      "cell_type": "code",
      "source": [
        "tf.subtract(A,B)"
      ],
      "metadata": {
        "colab": {
          "base_uri": "https://localhost:8080/"
        },
        "id": "ngjYkHObNHeO",
        "outputId": "f226489d-e41d-432d-efd3-73c2813512e9"
      },
      "execution_count": null,
      "outputs": [
        {
          "output_type": "execute_result",
          "data": {
            "text/plain": [
              "<tf.Tensor: shape=(3, 3), dtype=int32, numpy=\n",
              "array([[9, 9, 9],\n",
              "       [9, 9, 9],\n",
              "       [9, 9, 9]], dtype=int32)>"
            ]
          },
          "metadata": {},
          "execution_count": 98
        }
      ]
    },
    {
      "cell_type": "markdown",
      "metadata": {
        "id": "PgasYmFLzUhG"
      },
      "source": [
        "## Inverse"
      ]
    },
    {
      "cell_type": "markdown",
      "metadata": {
        "id": "DW4MhctyzUhG"
      },
      "source": [
        "The **inverse** of a square matrix $A \\in \\mathbb{R}^{n\\times n}$ is $A^{-1}$:"
      ]
    },
    {
      "cell_type": "markdown",
      "metadata": {
        "id": "KPBipnrlzUhG"
      },
      "source": [
        "$A^{-1} A = I = A A^{-1}$"
      ]
    },
    {
      "cell_type": "markdown",
      "metadata": {
        "id": "HPokNmlqzUhG"
      },
      "source": [
        "Not all matrices have inverses. Non-square matrices do not have inverses by definition. For some square matrices $A$ the inverse might not exist."
      ]
    },
    {
      "cell_type": "markdown",
      "metadata": {
        "id": "c1RLd906zUhG"
      },
      "source": [
        "$A$ is **invertible** or **non-singular** if $A^{-1}$ exists."
      ]
    },
    {
      "cell_type": "markdown",
      "metadata": {
        "id": "IDtOdJoTzUhG"
      },
      "source": [
        "$A$ is **non-invertible** or **singular** if $A^{-1}$ does not exist."
      ]
    },
    {
      "cell_type": "markdown",
      "metadata": {
        "id": "hsukHheizUhG"
      },
      "source": [
        "<font color='red'>Note: **non-singular** means the opposite of **non-invertible**!</font>"
      ]
    },
    {
      "cell_type": "markdown",
      "metadata": {
        "id": "1Kykak-dzUhG"
      },
      "source": [
        "For $A$ to have an inverse $A^{-1}$, $A$ must be **full rank**."
      ]
    },
    {
      "cell_type": "markdown",
      "metadata": {
        "id": "4QL6tNVyzUhG"
      },
      "source": [
        "Assuming that $A,B \\in \\mathbb{R}^{n\\times n}$ are non-singular, then:"
      ]
    },
    {
      "cell_type": "markdown",
      "metadata": {
        "id": "-mPSP-a4zUhG"
      },
      "source": [
        "- $(A^{-1})^{-1} = A$\n",
        "- $(AB)^{-1} = B^{-1} A^{-1}$\n",
        "- $(A^{-1})^T = (A^T)^{-1}$ (often simply $A^{-T}$)"
      ]
    },
    {
      "cell_type": "markdown",
      "metadata": {
        "id": "bh0uN-sjzUhG"
      },
      "source": [
        "## Orthogonal Matrices"
      ]
    },
    {
      "cell_type": "markdown",
      "metadata": {
        "id": "sSLsVC7VzUhH"
      },
      "source": [
        "Two vectors $x, y \\in \\mathbb{R}^n$ are **orthogonal** if $x^T y = 0$."
      ]
    },
    {
      "cell_type": "markdown",
      "metadata": {
        "id": "ahocBNcqzUhH"
      },
      "source": [
        "A vector $x \\in \\mathbb{R}^n$ is **normalized** if $\\|x\\|^2 = 1$."
      ]
    },
    {
      "cell_type": "markdown",
      "metadata": {
        "id": "sp38IxjczUhH"
      },
      "source": [
        "A square matrix $U \\in \\mathbb{R}^{n\\times n}$ is **orthogonal** if all its columns are orthogonal to each other and are **normalized**. The columns are then referred to as being **orthonormal**."
      ]
    },
    {
      "cell_type": "markdown",
      "metadata": {
        "id": "B8zHJZbhzUhH"
      },
      "source": [
        "It follows immediately from the definition of orthogonality and normality that:"
      ]
    },
    {
      "cell_type": "markdown",
      "metadata": {
        "id": "hAJV2-v4zUhH"
      },
      "source": [
        "$U^T U = I = U U^T$"
      ]
    },
    {
      "cell_type": "markdown",
      "metadata": {
        "id": "pXTdn7YlzUhH"
      },
      "source": [
        "This means that the inverse of an orthogonal matrix is its transpose."
      ]
    },
    {
      "cell_type": "markdown",
      "metadata": {
        "id": "HN6yyjBYzUhH"
      },
      "source": [
        "If U is not square - i.e., $U \\in \\mathbb{R}^{m\\times n}$, $n < m$ - but its columns are still orthonormal, then $U^T U = I$, but $U U^T \\neq I$."
      ]
    },
    {
      "cell_type": "markdown",
      "metadata": {
        "id": "vUUCaiSOzUhH"
      },
      "source": [
        "We generally only use the term orthogonal to describe the case, where $U$ is square."
      ]
    },
    {
      "cell_type": "markdown",
      "metadata": {
        "id": "A_WOQcIWzUhH"
      },
      "source": [
        "Another nice property of orthogonal matrices is that operating on a vector with an orthogonal matrix will not change its Euclidean norm. For any $x \\in \\mathbb{R}^n$, $U \\in \\mathbb{R}^{n\\times n}$ orthogonal."
      ]
    },
    {
      "cell_type": "markdown",
      "metadata": {
        "id": "T9KgNSDQzUhH"
      },
      "source": [
        "$\\|U_x\\|^2 = \\|x\\|^2$"
      ]
    },
    {
      "cell_type": "markdown",
      "metadata": {
        "id": "72_tTebmzUhH"
      },
      "source": [
        "## Range and Nullspace of a Matrix"
      ]
    },
    {
      "cell_type": "markdown",
      "metadata": {
        "id": "1NwcN-_0zUhH"
      },
      "source": [
        "The **span** of a set of vectors $\\{ x_1, x_2, \\dots{}, x_n\\}$ is the set of all vectors that can be expressed as\n",
        "a linear combination of $\\{ x_1, \\dots{}, x_n \\}$:"
      ]
    },
    {
      "cell_type": "markdown",
      "metadata": {
        "id": "5_3f4e6tzUhH"
      },
      "source": [
        "$\\mathrm{span}(\\{ x_1, \\dots{}, x_n \\}) = \\{ v : v = \\sum_{i=1}^n \\alpha_i x_i, \\alpha_i \\in \\mathbb{R} \\}$"
      ]
    },
    {
      "cell_type": "markdown",
      "metadata": {
        "id": "SbGEln5WzUhH"
      },
      "source": [
        "It can be shown that if $\\{ x_1, \\dots{}, x_n \\}$ is a set of n linearly independent vectors, where each $x_i \\in \\mathbb{R}^n$, then $\\mathrm{span}(\\{ x_1, \\dots{}, x_n\\}) = \\mathbb{R}^n$. That is, any vector $v \\in \\mathbb{R}^n$ can be written as a linear combination of $x_1$ through $x_n$."
      ]
    },
    {
      "cell_type": "markdown",
      "metadata": {
        "id": "cLxjMMyBzUhH"
      },
      "source": [
        "The projection of a vector $y \\in \\mathbb{R}^m$ onto the span of $\\{ x_1, \\dots{}, x_n\\}$ (here we assume $x_i \\in \\mathbb{R}^m$) is the vector $v \\in \\mathrm{span}(\\{ x_1, \\dots{}, x_n \\})$, such that $v$ is as close as possible to $y$, as measured by the Euclidean norm $\\|v − y\\|^2$. We denote the projection as $\\mathrm{Proj}(y; \\{ x_1, \\dots{}, x_n \\})$ and can define it formally as:"
      ]
    },
    {
      "cell_type": "markdown",
      "metadata": {
        "id": "a0L6JJM4zUhH"
      },
      "source": [
        "$\\mathrm{Proj}( y; \\{ x_1, \\dots{}, x_n \\}) = \\mathrm{argmin}_{v\\in \\mathrm{span}(\\{x_1,\\dots{},x_n\\})}\\|y − v\\|^2$"
      ]
    },
    {
      "cell_type": "markdown",
      "metadata": {
        "id": "PB1CcyJKzUhI"
      },
      "source": [
        "The **range** (sometimes also called the columnspace) of a matrix $A \\in \\mathbb{R}^{m\\times n}$, denoted $\\mathcal{R}(A)$, is the the span of the columns of $A$. In other words,"
      ]
    },
    {
      "cell_type": "markdown",
      "metadata": {
        "id": "5EVgPXSnzUhI"
      },
      "source": [
        "$\\mathcal{R}(A) = \\{ v \\in \\mathbb{R}^m : v = A x, x \\in \\mathbb{R}^n\\}$"
      ]
    },
    {
      "cell_type": "markdown",
      "metadata": {
        "id": "nqaLFdC_zUhI"
      },
      "source": [
        "Making a few technical assumptions (namely that $A$ is full rank and that $n < m$), the projection of a vector $y \\in \\mathbb{R}^m$ onto the range of $A$ is given by:"
      ]
    },
    {
      "cell_type": "markdown",
      "metadata": {
        "id": "69hka5fqzUhI"
      },
      "source": [
        "$\\mathrm{Proj}(y; A) = \\mathrm{argmin}_{v\\in \\mathcal{R}(A)}\\|v − y\\|^2 = A(A^T A)^{−1} A^T y$"
      ]
    },
    {
      "cell_type": "markdown",
      "metadata": {
        "id": "R-XLpUXRzUhI"
      },
      "source": [
        "The **nullspace** of a matrix $A \\in \\mathbb{R}^{m\\times n}$, denoted $\\mathcal{N}(A)$ is the set of all vectors that equal $0$ when multiplied by $A$, i.e.,"
      ]
    },
    {
      "cell_type": "markdown",
      "metadata": {
        "id": "y4ODbcrNzUhI"
      },
      "source": [
        "$\\mathcal{N}(A) = \\{ x \\in \\mathbb{R}^n : A x = 0 \\}$"
      ]
    },
    {
      "cell_type": "markdown",
      "metadata": {
        "id": "WppwOR0nzUhI"
      },
      "source": [
        "Note that vectors in $\\mathcal{R}(A)$ are of size $m$, while vectors in the $\\mathcal{N}(A)$ are of size $n$, so vectors in $\\mathcal{R}(A^T)$ and $\\mathcal{N}(A)$ are both in $\\mathbb{R}^n$. In fact, we can say much more. It turns out that:"
      ]
    },
    {
      "cell_type": "markdown",
      "metadata": {
        "id": "7AL6dIXOzUhI"
      },
      "source": [
        "$\\{ w : w = u + v, u \\in \\mathcal{R}(A^T), v \\in \\mathcal{N}(A) \\} = \\mathbb{R}^n$ and $\\mathcal{R}(A^T) \\cap \\mathcal{N}(A) = \\{0\\}$"
      ]
    },
    {
      "cell_type": "markdown",
      "metadata": {
        "id": "IJwemsPFzUhI"
      },
      "source": [
        "In other words, $\\mathcal{R}(A^T)$ and $\\mathcal{N}(A)$ are disjoint subsets that together span the entire space of\n",
        "$\\mathbb{R}^n$. Sets of this type are called **orthogonal complements**, and we denote this $\\mathcal{R}(A^T) = \\mathcal{N}(A)^\\perp$."
      ]
    },
    {
      "cell_type": "markdown",
      "metadata": {
        "id": "zHDnS7rPzUhI"
      },
      "source": [
        "## Determinant"
      ]
    },
    {
      "cell_type": "markdown",
      "metadata": {
        "id": "3k3xis14zUhI"
      },
      "source": [
        "The determinant of a square matrix $A \\in \\mathbb{R}^{n\\times n}$, is a function $\\mathrm{det} : \\mathbb{R}^{n\\times n} \\rightarrow \\mathbb{R}$, and is denoted $|A|$ or $\\mathrm{det}A$ (like the trace operator, we usually omit parentheses)."
      ]
    },
    {
      "cell_type": "markdown",
      "metadata": {
        "id": "uo0GudLfzUhI"
      },
      "source": [
        "### A geometric interpretation of the determinant"
      ]
    },
    {
      "cell_type": "markdown",
      "metadata": {
        "id": "AWp2cpfazUhI"
      },
      "source": [
        "Given"
      ]
    },
    {
      "cell_type": "markdown",
      "metadata": {
        "id": "kmQI2QSizUhI"
      },
      "source": [
        "$\\begin{bmatrix}\n",
        " -- & a_1^T  & -- \\\\[0.3em]\n",
        " -- & a_2^T  & -- \\\\[0.3em]\n",
        "    & \\vdots &  \\\\[0.3em]\n",
        " -- & a_n^T  & -- \n",
        "\\end{bmatrix}$"
      ]
    },
    {
      "cell_type": "markdown",
      "metadata": {
        "id": "_YgR2Tu3zUhI"
      },
      "source": [
        "consider the set of points $S \\subset \\mathbb{R}^n$ formed by taking all possible linear combinations of the row vectors $a_1, \\dots{}, a_n \\in \\mathbb{R}^n$ of $A$, where the coefficients of the linear combination are all\n",
        "between $0$ and $1$; that is, the set $S$ is the restriction of $\\mathrm{span}( \\{ a_1, \\dots{}, a_n \\})$ to only those linear combinations whose coefficients $\\alpha_1, \\dots{}, \\alpha_n$ satisfy $0 \\leq \\alpha_i \\leq 1$, $i = 1, \\dots{}, n$. Formally:"
      ]
    },
    {
      "cell_type": "markdown",
      "metadata": {
        "id": "BQ2CS2jJzUhI"
      },
      "source": [
        "$S = \\{v \\in \\mathbb{R}^n : v = \\sum_{i=1}^n \\alpha_i a_i \\mbox{ where } 0 \\leq \\alpha_i \\leq 1, i = 1, \\dots{}, n \\}$"
      ]
    },
    {
      "cell_type": "markdown",
      "metadata": {
        "id": "FgNiwFU1zUhI"
      },
      "source": [
        "The absolute value of the determinant of $A$, it turns out, is a measure of the *volume* of the set $S$. The volume here is intuitively for example for $n = 2$ the area of $S$ in the Cartesian plane, or with $n = 3$ it is the common understanding of *volume* for 3-dimensional objects."
      ]
    },
    {
      "cell_type": "markdown",
      "metadata": {
        "id": "9EK9Mf75zUhI"
      },
      "source": [
        "Example:"
      ]
    },
    {
      "cell_type": "markdown",
      "metadata": {
        "id": "smrefF6ezUhI"
      },
      "source": [
        "$A = \\begin{bmatrix}\n",
        " 1 & 3\\\\[0.3em]\n",
        " 3 & 2 \n",
        "\\end{bmatrix}$"
      ]
    },
    {
      "cell_type": "markdown",
      "metadata": {
        "id": "DaN0l_4ezUhI"
      },
      "source": [
        "The rows of the matrix are:"
      ]
    },
    {
      "cell_type": "markdown",
      "metadata": {
        "id": "p4y6_-ZOzUhI"
      },
      "source": [
        "$a_1 = \\begin{bmatrix}\n",
        " 1 \\\\[0.3em]\n",
        " 3 \n",
        "\\end{bmatrix}\n",
        "\\quad\n",
        "a_2 = \\begin{bmatrix}\n",
        " 3 \\\\[0.3em]\n",
        " 2 \n",
        "\\end{bmatrix}$"
      ]
    },
    {
      "cell_type": "markdown",
      "metadata": {
        "id": "fbTi_MNPzUhJ"
      },
      "source": [
        "The set S corresponding to these rows is shown in:"
      ]
    },
    {
      "cell_type": "markdown",
      "metadata": {
        "id": "D0hCXbnlzUhJ"
      },
      "source": [
        "<img src=\"LinearAlgebra_Determinant_2x2.png\" style=\"max-width:100%; width: 30%; max-width: none\">"
      ]
    },
    {
      "cell_type": "markdown",
      "metadata": {
        "id": "sA1ZAR2ozUhJ"
      },
      "source": [
        "The figure above is an illustration of the determinant for the $2\\times 2$ matrix $A$ above. Here, $a_1$ and $a_2$\n",
        "are vectors corresponding to the rows of $A$, and the set $S$ corresponds to the shaded region (i.e., the parallelogram). The absolute value of the determinant, $|\\mathrm{det}A| = 7$, is the area of the parallelogram."
      ]
    },
    {
      "cell_type": "markdown",
      "metadata": {
        "id": "VarKxZhpzUhJ"
      },
      "source": [
        "For two-dimensional matrices, $S$ generally has the shape of a parallelogram. In our example, the value of the determinant is $|A| = −7$ (as can be computed using the formulas shown later), so the area of the parallelogram is $7$."
      ]
    },
    {
      "cell_type": "markdown",
      "metadata": {
        "id": "ZzTEbm6ZzUhJ"
      },
      "source": [
        "In three dimensions, the set $S$ corresponds to an object known as a parallelepiped (a three-dimensional box with skewed sides, such that every face has the shape of a parallelogram). The absolute value of the determinant of the $3 \\times 3$ matrix whose rows define $S$ give the three-dimensional volume of the parallelepiped. In even higher dimensions, the set $S$ is an object known as an $n$-dimensional parallelotope."
      ]
    },
    {
      "cell_type": "markdown",
      "metadata": {
        "id": "RhXhcsoszUhJ"
      },
      "source": [
        "Algebraically, the determinant satisfies the following three properties (from which all other properties follow, including the general formula):"
      ]
    },
    {
      "cell_type": "markdown",
      "metadata": {
        "id": "fYohxwTLzUhJ"
      },
      "source": [
        "- The determinant of the identity is $1$, $|I| = 1$. (Geometrically, the volume of a unit hypercube is $1$).\n",
        "- Given a matrix $A \\in \\mathbb{R}^{n\\times n}$, if we multiply a single row in $A$ by a scalar $t \\in \\mathbb{R}$, then the determinant of the new matrix is $t|A|$,<br/>\n",
        "$\\left| \\begin{bmatrix}\n",
        " -- & t a_1^T  & -- \\\\[0.3em]\n",
        " -- & a_2^T  & -- \\\\[0.3em]\n",
        "    & \\vdots &  \\\\[0.3em]\n",
        " -- & a_m^T  & -- \n",
        "\\end{bmatrix}\\right|  = t|A|$<br/>\n",
        "(Geometrically, multiplying one of the sides of the set $S$ by a factor $t$ causes the volume\n",
        "to increase by a factor $t$.)\n",
        "- If we exchange any two rows $a^T_i$ and $a^T_j$ of $A$, then the determinant of the new matrix is $−|A|$, for example<br/>\n",
        "$\\left| \\begin{bmatrix}\n",
        " -- & a_2^T  & -- \\\\[0.3em]\n",
        " -- & a_1^T  & -- \\\\[0.3em]\n",
        "    & \\vdots &  \\\\[0.3em]\n",
        " -- & a_m^T  & -- \n",
        "\\end{bmatrix}\\right|  = -|A|$"
      ]
    },
    {
      "cell_type": "markdown",
      "metadata": {
        "id": "y32ZKaiDzUhJ"
      },
      "source": [
        "Several properties that follow from the three properties above include:"
      ]
    },
    {
      "cell_type": "markdown",
      "metadata": {
        "id": "OUNJ9hbczUhJ"
      },
      "source": [
        "- For $A \\in \\mathbb{R}^{n\\times n}$, $|A| = |A^T|$\n",
        "- For $A,B \\in \\mathbb{R}^{n\\times n}$, $|AB| = |A||B|$\n",
        "- For $A \\in \\mathbb{R}^{n\\times n}$, $|A| = 0$ if and only if $A$ is singular (i.e., non-invertible). (If $A$ is singular then it does not have full rank, and hence its columns are linearly dependent. In this case, the set $S$ corresponds to a \"flat sheet\" within the $n$-dimensional space and hence has zero volume.)\n",
        "- For $A \\in \\mathbb{R}^{n\\times n}$ and $A$ non-singular, $|A−1| = 1/|A|$"
      ]
    },
    {
      "cell_type": "markdown",
      "metadata": {
        "id": "l-vr3wxQzUhJ"
      },
      "source": [
        "## Tensors"
      ]
    },
    {
      "cell_type": "markdown",
      "metadata": {
        "id": "bdhU96TOzUhJ"
      },
      "source": [
        "A [**tensor**](https://en.wikipedia.org/wiki/Tensor) could be thought of as an organized multidimensional array of numerical values. A vector could be assumed to be a sub-class of a tensor. Rows of tensors extend alone the y-axis, columns along the x-axis. The **rank** of a scalar is 0, the rank of a **vector** is 1, the rank of a **matrix** is 2, the rank of a **tensor** is 3 or higher."
      ]
    },
    {
      "cell_type": "markdown",
      "metadata": {
        "id": "wBnrD4NCzUhJ"
      },
      "source": [
        "## Hyperplane"
      ]
    },
    {
      "cell_type": "markdown",
      "metadata": {
        "id": "0gePza44zUhJ"
      },
      "source": [
        "The **hyperplane** is a sub-space in the ambient space with one dimension less. In a two-dimensional space the hyperplane is a line, in a three-dimensional space it is a two-dimensional plane, etc."
      ]
    },
    {
      "cell_type": "markdown",
      "metadata": {
        "id": "Tbo74XZGzUhJ"
      },
      "source": [
        "Hyperplanes divide an $n$-dimensional space into sub-spaces that might represent clases in a machine learning algorithm."
      ]
    },
    {
      "cell_type": "markdown",
      "metadata": {
        "id": "3oK4OMclzUhJ"
      },
      "source": [
        "# Summary"
      ]
    },
    {
      "cell_type": "markdown",
      "metadata": {
        "id": "dll9jjWqzUhJ"
      },
      "source": [
        "## Dot Product"
      ]
    },
    {
      "cell_type": "markdown",
      "metadata": {
        "id": "ptIW94MdzUhJ"
      },
      "source": [
        "This is also the *inner product*. It is a function that returns a number computed from two vectors of the same length by summing up the product of the corresponding dimensions."
      ]
    },
    {
      "cell_type": "markdown",
      "metadata": {
        "id": "AVPHZhJTzUhJ"
      },
      "source": [
        "For two vectors $a = [a_1, a_2, \\dots{}, a_n]$ and $b = [b_1, b_2, \\dots{}, b_n]$ the dot product is:"
      ]
    },
    {
      "cell_type": "markdown",
      "metadata": {
        "id": "quy9l5jgzUhJ"
      },
      "source": [
        "$\\mathbf{a} \\cdot \\mathbf{b} = \\sum_{i=1}^{n} a_{i} b_{i} = a_{1} b_{1} + a_{2} b_{2} + \\cdots + a_{n} b_{n}$"
      ]
    },
    {
      "cell_type": "markdown",
      "metadata": {
        "id": "4MzdV97wzUhJ"
      },
      "source": [
        "If we normalize two vectors and compute the dot product, we get the *cosine similarity*, which can be used as a metric for cimilarity of vectors. Independent of the absolute length we look at the angle between the vectors, i.e. the lenght is neutralized via normalization."
      ]
    },
    {
      "cell_type": "markdown",
      "metadata": {
        "id": "T4bluLWCzUhJ"
      },
      "source": [
        "The cosine of two non-zero vectors can be derived by using the Euclidean dot product formula (see [Wikipedia: Cosine similarity](https://en.wikipedia.org/wiki/Cosine_similarity)):"
      ]
    },
    {
      "cell_type": "markdown",
      "metadata": {
        "id": "zZghZNZSzUhJ"
      },
      "source": [
        "$\\mathbf{a} \\cdot \\mathbf{b} = \\left\\|\\mathbf{a}\\right\\| \\left\\|\\mathbf{b}\\right\\| \\cos\\theta$"
      ]
    },
    {
      "cell_type": "markdown",
      "metadata": {
        "id": "s9NmQJx6zUhK"
      },
      "source": [
        "Given two vectors of attributes, $A$ and $B$, the cosine similarity, $cos(\\theta)$, is represented using a dot product and magnitude as:"
      ]
    },
    {
      "cell_type": "markdown",
      "metadata": {
        "id": "Zl6eLbQ-zUhK"
      },
      "source": [
        "$\\text{similarity} = \\cos(\\theta) = \\frac{\\mathbf{A} \\cdot \\mathbf{B}}{ \\|\\mathbf{A} \\|\\|\\mathbf{B} \\| } = \\frac{\\sum \\limits_{i=1}^{n}{A_{i}B_{i}}}{{\\sqrt {\\sum \\limits _{i=1}^{n}{A_{i}^{2}}}}{\\sqrt {\\sum \\limits _{i=1}^{n}{B_{i}^{2}}}}}$, with $A_i$ and $B_i$ components of vector $A$ and $B$ respectively."
      ]
    },
    {
      "cell_type": "markdown",
      "metadata": {
        "id": "RVw1qU-gzUhK"
      },
      "source": [
        "## Hadamard Product"
      ]
    },
    {
      "cell_type": "markdown",
      "metadata": {
        "id": "tajnd5wdzUhK"
      },
      "source": [
        "This is also known as the **entrywise product**. For two matrices $A \\in \\mathbb{R}^{m\\times n}$ and $B \\in \\mathbb{R}^{m\\times n}$ the Hadamard product $A\\circ B$ is:"
      ]
    },
    {
      "cell_type": "markdown",
      "metadata": {
        "id": "M1WKAnhazUhK"
      },
      "source": [
        "$(A\\circ B)_{i,j} = (A)_{i,j} (B)_{i,j}$"
      ]
    },
    {
      "cell_type": "markdown",
      "metadata": {
        "id": "_2273lFHzUhK"
      },
      "source": [
        "For example:"
      ]
    },
    {
      "cell_type": "markdown",
      "metadata": {
        "id": "wOMjKM3izUhK"
      },
      "source": [
        "$\\begin{bmatrix}\n",
        " a_{11} & a_{12} & a_{13} \\\\[0.3em]\n",
        " a_{21} & a_{22} & a_{23} \\\\[0.3em]\n",
        " a_{31} & a_{32} & a_{33}\n",
        "\\end{bmatrix} \\circ\n",
        "\\begin{bmatrix}\n",
        " b_{11} & b_{12} & b_{13} \\\\[0.3em]\n",
        " b_{21} & b_{22} & b_{23} \\\\[0.3em]\n",
        " b_{31} & b_{32} & b_{33}\n",
        "\\end{bmatrix} = \n",
        "\\begin{bmatrix}\n",
        " a_{11}b_{11} & a_{12}b_{12} & a_{13}b_{13} \\\\[0.3em]\n",
        " a_{21}b_{21} & a_{22}b_{22} & a_{23}b_{23} \\\\[0.3em]\n",
        " a_{31}b_{31} & a_{32}b_{32} & a_{33}b_{33}\n",
        "\\end{bmatrix}$"
      ]
    },
    {
      "cell_type": "markdown",
      "metadata": {
        "id": "CeLjWAQDzUhK"
      },
      "source": [
        "## Outer Product"
      ]
    },
    {
      "cell_type": "markdown",
      "metadata": {
        "id": "YRMtDHgJzUhK"
      },
      "source": [
        "This is also called the **tensor product** of two vectors. Compute the resulting matrix by multiplying each element from a column vector with all alements in a row vector."
      ]
    },
    {
      "cell_type": "markdown",
      "metadata": {
        "id": "bBCHUCaozUhK"
      },
      "source": [
        "..."
      ]
    }
  ],
  "metadata": {
    "kernelspec": {
      "display_name": "Python 3",
      "language": "python",
      "name": "python3"
    },
    "language_info": {
      "codemirror_mode": {
        "name": "ipython",
        "version": 3
      },
      "file_extension": ".py",
      "mimetype": "text/x-python",
      "name": "python",
      "nbconvert_exporter": "python",
      "pygments_lexer": "ipython3",
      "version": "3.7.6"
    },
    "toc": {
      "base_numbering": 1,
      "nav_menu": {},
      "number_sections": false,
      "sideBar": false,
      "skip_h1_title": false,
      "title_cell": "Table of Contents",
      "title_sidebar": "Contents",
      "toc_cell": false,
      "toc_position": {},
      "toc_section_display": false,
      "toc_window_display": false
    },
    "colab": {
      "provenance": []
    }
  },
  "nbformat": 4,
  "nbformat_minor": 0
}